{
 "cells": [
  {
   "cell_type": "markdown",
   "metadata": {},
   "source": [
    "# This Jupyter notebook contains the classes that are useful for the home assignment\n",
    "\n",
    "### 1.0 OLS class"
   ]
  },
  {
   "cell_type": "code",
   "execution_count": null,
   "metadata": {},
   "outputs": [],
   "source": [
    "class OLS:\n",
    "\n",
    "    \"\"\"\n",
    "    This code implements a simple OLS regression. The inputs Y and X must be in numpy matrix format. \n",
    "    \"\"\"\n",
    "    \n",
    "    def __init__(self, Y, X):\n",
    "        #Initialize the dependent and independent variables\n",
    "        self.Y, self.X = Y, X \n",
    "        \n",
    "        # terminate and produce error message, if Y or X are of wrong type\n",
    "        if isinstance(X,np.ndarray) == False:\n",
    "            raise TypeError('X is not a numpy ndarray!')\n",
    "        if isinstance(Y,np.ndarray) == False:\n",
    "            raise TypeError('Y is not a numpy ndarray!')\n",
    "\n",
    "    def estimate(self):\n",
    "        #unpack Y and X\n",
    "        Y, X = self.Y, self.X\n",
    "        \n",
    "        #Estimate the beta coefficients\n",
    "        self.beta = np.linalg.inv(X.T @ X) @ (X.T @ Y)\n",
    "        \n",
    "        #compute the regression residuals\n",
    "        eps = Y - X @ self.beta\n",
    "        \n",
    "        #compute the residual variance\n",
    "        s_hat = 1/(Y.shape[0]-self.beta.shape[0]) * eps.T @ eps\n",
    "        \n",
    "        #compute the standard errors\n",
    "        self.se = np.sqrt(np.diag(np.linalg.inv(X.T @ X) * s_hat.item())).reshape((self.beta.shape[0],1))\n",
    "        \n",
    "        #compute t-statistic for standard hypothesis test\n",
    "        t = np.abs(self.beta/self.se)\n",
    "\n",
    "        #compute p-values for standard hypothesis test\n",
    "        p_vals = 2*(1-stats.norm.cdf(np.abs(t)))\n",
    "             \n",
    "        #compute confidence intervals\n",
    "        CI_upper = self.beta + stats.norm.ppf(0.975)*self.se\n",
    "        CI_lower = self.beta - stats.norm.ppf(0.975)*self.se\n",
    "        \n",
    "        MSE = np.mean(np.square(eps),axis=0)\n",
    "        self.R2 = 1 - MSE/np.var(Y)\n",
    "        self.eps = eps\n",
    "        self.s_hat = s_hat\n",
    "        \n",
    "        #generate an output table\n",
    "        outmat = np.hstack((self.beta,self.se,t,p_vals,CI_lower,CI_upper))\n",
    "        table = pd.DataFrame(outmat)\n",
    "        table.columns =['beta', 'se','t-statistic','p-value','CI - lower','CI - upper'] \n",
    "        \n",
    "        return table\n",
    "    "
   ]
  },
  {
   "cell_type": "markdown",
   "metadata": {},
   "source": [
    "### 2.0 PCA class"
   ]
  },
  {
   "cell_type": "code",
   "execution_count": null,
   "metadata": {},
   "outputs": [],
   "source": [
    "class PCA:\n",
    "    \n",
    "    def __init__(self, X):\n",
    "        self.X = X\n",
    "\n",
    "    def get_components(self, X = None, kk = 1, λ = None):\n",
    "        \n",
    "        # build the function such that it can also back out the factors given the loadings for arbitrary samples\n",
    "        if X is None:\n",
    "            X = self.X\n",
    "            \n",
    "        if λ is not None:\n",
    "            # back out the size of the data\n",
    "            [t,n] = X.shape\n",
    "            \n",
    "            self.λ = λ\n",
    "            self.f = X @ self.λ /n\n",
    "        else:\n",
    "            #X = self.X\n",
    "            \n",
    "            # back out the size of the data\n",
    "            [t,n] = X.shape\n",
    "\n",
    "            # since the data is standardized, we can compute the variance-covariance matrix like so\n",
    "            covm = X.T @ X\n",
    "\n",
    "            # now we extract the eigenvectors and eigenvalues\n",
    "            w,v = np.linalg.eig(covm)\n",
    "\n",
    "            # sort in descending order\n",
    "            sort_id = np.flipud(np.argsort(w))\n",
    "            v = v[:,sort_id]\n",
    "            # diagonalize eigenvalues\n",
    "            w = np.diag(w[sort_id])\n",
    "    \n",
    "            # compute the factor loadings\n",
    "            self.λ = np.sqrt(n)*v[:,0:kk]\n",
    "\n",
    "            # compute the principal components\n",
    "            self.f = X @ self.λ /n\n",
    "            \n",
    "        self.λ = self.λ.real\n",
    "        self.f = self.f.real"
   ]
  },
  {
   "cell_type": "markdown",
   "metadata": {},
   "source": [
    "### 3.0 Miscellaneous \n",
    "#### 3.1 Exercise B:"
   ]
  },
  {
   "cell_type": "code",
   "execution_count": null,
   "metadata": {},
   "outputs": [],
   "source": [
    "# read in the data sheet\n",
    "varekonsum = pd.read_excel('varekonsum.xlsx', usecols=\"C:IT\", header=3).T\n",
    "varekonsum = varekonsum.dropna(axis=1)\n",
    "\n",
    "# adjust columnlabel\n",
    "varekonsum.columns =['varekonsum']\n",
    "\n",
    "# replace the index with a machine readable format\n",
    "varekonsum.index = pd.date_range(start='31/01/2000', end='31/12/2020', freq='M')"
   ]
  },
  {
   "cell_type": "markdown",
   "metadata": {},
   "source": [
    "#### 3.2 Exercise C:"
   ]
  },
  {
   "cell_type": "code",
   "execution_count": null,
   "metadata": {},
   "outputs": [],
   "source": [
    "# set company name as index\n",
    "financial_data = financial_data.set_index('Unnamed: 0')\n",
    "\n",
    "# convert sector to categorical\n",
    "financial_data[\"Sector\"] = financial_data[\"Sector\"].astype('category')\n",
    "financial_data[\"Sector\"] = financial_data[\"Sector\"].cat.codes"
   ]
  },
  {
   "cell_type": "code",
   "execution_count": null,
   "metadata": {},
   "outputs": [],
   "source": []
  }
 ],
 "metadata": {
  "@webio": {
   "lastCommId": null,
   "lastKernelId": null
  },
  "kernelspec": {
   "display_name": "Python 3",
   "language": "python",
   "name": "python3"
  },
  "language_info": {
   "codemirror_mode": {
    "name": "ipython",
    "version": 3
   },
   "file_extension": ".py",
   "mimetype": "text/x-python",
   "name": "python",
   "nbconvert_exporter": "python",
   "pygments_lexer": "ipython3",
   "version": "3.8.3"
  }
 },
 "nbformat": 4,
 "nbformat_minor": 4
}
