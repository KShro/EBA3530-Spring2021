{
 "cells": [
  {
   "cell_type": "markdown",
   "metadata": {},
   "source": [
    "# Solutions - Home Assignment \n",
    "\n",
    "### 1.0 Setup"
   ]
  },
  {
   "cell_type": "code",
   "execution_count": 1,
   "metadata": {},
   "outputs": [],
   "source": [
    "# import Python packages\n",
    "%matplotlib inline  \n",
    "import pandas as pd \n",
    "import numpy as np  \n",
    "import scipy as sp\n",
    "from scipy import stats\n",
    "import matplotlib.pyplot as plt\n",
    "from functools import reduce\n",
    "import statsmodels.api as sm\n",
    "from statsmodels.sandbox.regression.predstd import wls_prediction_std\n",
    "\n",
    "plt.rcParams[\"figure.figsize\"] = [10,8]  # Set default figure size"
   ]
  },
  {
   "cell_type": "markdown",
   "metadata": {},
   "source": [
    "### 1.1 Exercise A:\n",
    "\n",
    "#### 1.1.1 A.i):\n",
    "\n",
    "Read in the provided data."
   ]
  },
  {
   "cell_type": "code",
   "execution_count": 2,
   "metadata": {},
   "outputs": [
    {
     "data": {
      "text/html": [
       "<div>\n",
       "<style scoped>\n",
       "    .dataframe tbody tr th:only-of-type {\n",
       "        vertical-align: middle;\n",
       "    }\n",
       "\n",
       "    .dataframe tbody tr th {\n",
       "        vertical-align: top;\n",
       "    }\n",
       "\n",
       "    .dataframe thead th {\n",
       "        text-align: right;\n",
       "    }\n",
       "</style>\n",
       "<table border=\"1\" class=\"dataframe\">\n",
       "  <thead>\n",
       "    <tr style=\"text-align: right;\">\n",
       "      <th></th>\n",
       "      <th>x1</th>\n",
       "      <th>x2</th>\n",
       "      <th>x3</th>\n",
       "    </tr>\n",
       "  </thead>\n",
       "  <tbody>\n",
       "    <tr>\n",
       "      <th>0</th>\n",
       "      <td>0.537667</td>\n",
       "      <td>0.840376</td>\n",
       "      <td>0.183227</td>\n",
       "    </tr>\n",
       "    <tr>\n",
       "      <th>1</th>\n",
       "      <td>1.833885</td>\n",
       "      <td>-0.888032</td>\n",
       "      <td>-1.029768</td>\n",
       "    </tr>\n",
       "    <tr>\n",
       "      <th>2</th>\n",
       "      <td>-2.258847</td>\n",
       "      <td>0.100093</td>\n",
       "      <td>0.949222</td>\n",
       "    </tr>\n",
       "    <tr>\n",
       "      <th>3</th>\n",
       "      <td>0.862173</td>\n",
       "      <td>-0.544529</td>\n",
       "      <td>0.307062</td>\n",
       "    </tr>\n",
       "    <tr>\n",
       "      <th>4</th>\n",
       "      <td>0.318765</td>\n",
       "      <td>0.303521</td>\n",
       "      <td>0.135175</td>\n",
       "    </tr>\n",
       "  </tbody>\n",
       "</table>\n",
       "</div>"
      ],
      "text/plain": [
       "         x1        x2        x3\n",
       "0  0.537667  0.840376  0.183227\n",
       "1  1.833885 -0.888032 -1.029768\n",
       "2 -2.258847  0.100093  0.949222\n",
       "3  0.862173 -0.544529  0.307062\n",
       "4  0.318765  0.303521  0.135175"
      ]
     },
     "execution_count": 2,
     "metadata": {},
     "output_type": "execute_result"
    }
   ],
   "source": [
    "# read in the data sheet\n",
    "random = pd.read_csv('randomX.csv')\n",
    "\n",
    "# display the data\n",
    "random.head()"
   ]
  },
  {
   "cell_type": "markdown",
   "metadata": {},
   "source": [
    "First, write a function that obtains `M` Monte-Carlo samples of the data."
   ]
  },
  {
   "cell_type": "code",
   "execution_count": 3,
   "metadata": {},
   "outputs": [],
   "source": [
    "# define a function that simulates the data\n",
    "def simul(M, N, X, α, β):\n",
    "    \n",
    "    Y = np.empty([N, M])\n",
    "    \n",
    "    # generate Y based on the input parameters\n",
    "    Y = α + β* np.tile(X, (1, M)) + np.random.randn(N, M)\n",
    "        \n",
    "    # return the matrix of generated data\n",
    "    return Y\n"
   ]
  },
  {
   "cell_type": "markdown",
   "metadata": {},
   "source": [
    "Now, obtain `M` MC samples of length `N` and with input parameters `α` and `β`."
   ]
  },
  {
   "cell_type": "code",
   "execution_count": 4,
   "metadata": {},
   "outputs": [],
   "source": [
    "# set the simulation parameters\n",
    "N = len(random.x1)\n",
    "M = 2000\n",
    "\n",
    "# obtain a sample of simulated data\n",
    "Y_MC = simul(M, N, np.asarray(random.x1)[:,None], 0.5, 1.5)\n"
   ]
  },
  {
   "cell_type": "markdown",
   "metadata": {},
   "source": [
    "With the samples generated, now compute the regression. You can either use a version of the OLS class provided as a solution to the homework problems/tutorial or a Python package. \n",
    "\n",
    "#### Implementation with `class OLS`:"
   ]
  },
  {
   "cell_type": "code",
   "execution_count": 5,
   "metadata": {},
   "outputs": [],
   "source": [
    "class OLS:\n",
    "\n",
    "    \"\"\"\n",
    "    This code implements a simple OLS regression. The inputs Y and X must be in numpy matrix format. \n",
    "    \"\"\"\n",
    "    \n",
    "    def __init__(self, Y, X):\n",
    "        #Initialize the dependent and independent variables\n",
    "        self.Y, self.X = Y, X \n",
    "        \n",
    "        # terminate and produce error message, if Y or X are of wrong type\n",
    "        if isinstance(X,np.ndarray) == False:\n",
    "            raise TypeError('X is not a numpy ndarray!')\n",
    "        if isinstance(Y,np.ndarray) == False:\n",
    "            raise TypeError('Y is not a numpy ndarray!')\n",
    "\n",
    "    def estimate(self):\n",
    "        #unpack Y and X\n",
    "        Y, X = self.Y, self.X\n",
    "        \n",
    "        #Estimate the beta coefficients\n",
    "        self.beta = np.linalg.inv(X.T @ X) @ (X.T @ Y)\n",
    "        \n",
    "        #compute the regression residuals\n",
    "        eps = Y - X @ self.beta\n",
    "        \n",
    "        #compute the residual variance\n",
    "        s_hat = 1/(Y.shape[0]-self.beta.shape[0]) * eps.T @ eps\n",
    "        \n",
    "        #compute the standard errors\n",
    "        self.se = np.sqrt(np.diag(np.linalg.inv(X.T @ X) * s_hat.item())).reshape((self.beta.shape[0],1))\n",
    "        \n",
    "        #compute t-statistic for standard hypothesis test\n",
    "        t = np.abs(self.beta/self.se)\n",
    "\n",
    "        #compute p-values for standard hypothesis test\n",
    "        p_vals = 2*(1-stats.norm.cdf(np.abs(t)))\n",
    "             \n",
    "        #compute confidence intervals\n",
    "        CI_upper = self.beta + stats.norm.ppf(0.975)*self.se\n",
    "        CI_lower = self.beta - stats.norm.ppf(0.975)*self.se\n",
    "        \n",
    "        MSE = np.mean(np.square(eps),axis=0)\n",
    "        self.R2 = 1 - MSE/np.var(Y)\n",
    "        self.eps = eps\n",
    "        self.s_hat = s_hat\n",
    "        \n",
    "        #generate an output table\n",
    "        outmat = np.hstack((self.beta,self.se,t,p_vals,CI_lower,CI_upper))\n",
    "        table = pd.DataFrame(outmat)\n",
    "        table.columns =['beta', 'se','t-statistic','p-value','CI - lower','CI - upper'] \n",
    "        \n",
    "        return table\n",
    "    "
   ]
  },
  {
   "cell_type": "markdown",
   "metadata": {},
   "source": [
    "Set up the `X` and `Y` arrays of independent and dependent variables, respectively. Since we need to estimate the model for all MC samples, we need to use a loop."
   ]
  },
  {
   "cell_type": "code",
   "execution_count": 6,
   "metadata": {},
   "outputs": [],
   "source": [
    "# set up the matrix of independent variables. Setting up the matrix outside of the loop speeds up the code.\n",
    "X = np.hstack((np.ones([Y_MC.shape[0],1]),(np.asarray(random.x1)[:,None]), (np.asarray(random.x2)[:,None]), (np.asarray(random.x3)[:,None]), (np.asarray(random.x3)[:,None])**2))\n",
    "\n",
    "# initialize the output matrices for the betas and R^2\n",
    "betas = np.empty([X.shape[1], Y_MC.shape[1]])\n",
    "R2s = np.empty([1, Y_MC.shape[1]])\n",
    "\n",
    "# run the regression for every Y in the MC exercise\n",
    "for i in range(M):\n",
    "    \n",
    "    # read out the corresponding column of Y\n",
    "    Y = np.asarray(Y_MC[:,i])[:,None]\n",
    "    \n",
    "    # run the regression\n",
    "    MC_beta = OLS(Y,X)\n",
    "    MC_beta.estimate()\n",
    "    \n",
    "    # store the betas and R2 in the output arrays\n",
    "    betas[:,i] = MC_beta.beta.ravel()\n",
    "    R2s[0,i] = MC_beta.R2\n",
    "    "
   ]
  },
  {
   "cell_type": "markdown",
   "metadata": {},
   "source": [
    "Plot histograms for the parameters."
   ]
  },
  {
   "cell_type": "code",
   "execution_count": 7,
   "metadata": {},
   "outputs": [
    {
     "data": {
      "image/png": "[encoded data removed]",
      "text/plain": [
       "<Figure size 1080x864 with 5 Axes>"
      ]
     },
     "metadata": {
      "needs_background": "light"
     },
     "output_type": "display_data"
    }
   ],
   "source": [
    "# arrange the plots in 2-by-2 subplots\n",
    "num_rows = 3\n",
    "num_cols = 2\n",
    "\n",
    "fig, axes = plt.subplots(num_rows, num_cols, figsize=(15, 12))\n",
    "\n",
    "# plot the historgrams for the parameters\n",
    "id_ = 0\n",
    "\n",
    "for i in range(num_rows):    \n",
    "    for j in range(num_cols):\n",
    "        if id_ <= betas.shape[0]-1:\n",
    "            axes[i, j].hist(betas[id_,:], alpha=0.6, bins=100, density=True)\n",
    "            axes[i, j].vlines(np.median(betas[id_,:]),0,8,colors='r',label='median')\n",
    "            t = 'β_%.0f' %(id_)   \n",
    "            axes[i, j].set(title=t)\n",
    "            axes[i, j].legend()\n",
    "            id_ = id_ + 1\n",
    "fig.delaxes(axes[2, 1])\n",
    "plt.show()\n",
    "\n"
   ]
  },
  {
   "cell_type": "markdown",
   "metadata": {},
   "source": [
    "Plot the histogram for $R^2$."
   ]
  },
  {
   "cell_type": "code",
   "execution_count": 8,
   "metadata": {},
   "outputs": [
    {
     "data": {
      "image/png": "[encoded data removed]",
      "text/plain": [
       "<Figure size 540x432 with 1 Axes>"
      ]
     },
     "metadata": {
      "needs_background": "light"
     },
     "output_type": "display_data"
    }
   ],
   "source": [
    "fig, axes = plt.subplots(figsize=(7.5, 6))\n",
    "\n",
    "# plot the historgrams for the R^2\n",
    "axes.hist(R2s[0,:], alpha=0.6, bins=100, density=True)\n",
    "axes.vlines(np.median(R2s[0,:]),0,15,colors='r',label='median')\n",
    "t = r'$R^2$'   \n",
    "axes.set(title=t)\n",
    "axes.legend()\n",
    "plt.show()\n"
   ]
  },
  {
   "cell_type": "markdown",
   "metadata": {},
   "source": [
    "#### Implementation with `statsmodels`:\n",
    "\n",
    "Set up the `X` and `Y` arrays of independent and dependent variables, respectively. Since we need to estimate the model for all MC samples, we need to use a loop."
   ]
  },
  {
   "cell_type": "code",
   "execution_count": 9,
   "metadata": {},
   "outputs": [],
   "source": [
    "# set up the matrix of independent variables. Setting up the matrix outside of the loop speeds up the code.\n",
    "X = np.hstack((np.ones([Y_MC.shape[0],1]),(np.asarray(random.x1)[:,None]), (np.asarray(random.x2)[:,None]), (np.asarray(random.x3)[:,None]), (np.asarray(random.x3)[:,None])**2))\n",
    "\n",
    "# initialize the output matrices for the betas and R^2\n",
    "betas = np.empty([X.shape[1], Y_MC.shape[1]])\n",
    "R2s = np.empty([1, Y_MC.shape[1]])\n",
    "\n",
    "# run the regression for every Y in the MC exercise\n",
    "for i in range(M):\n",
    "    \n",
    "    # read out the corresponding column of Y\n",
    "    Y = np.asarray(Y_MC[:,i])[:,None]\n",
    "    \n",
    "    # run the regression\n",
    "    model = sm.OLS(Y, X)\n",
    "    results = model.fit()\n",
    "    \n",
    "    # store the betas and R2 in the output arrays\n",
    "    betas[:,i] = results.params.ravel()\n",
    "    R2s[0,i] = results.rsquared"
   ]
  },
  {
   "cell_type": "markdown",
   "metadata": {},
   "source": [
    "Plot the histograms for the parameters."
   ]
  },
  {
   "cell_type": "code",
   "execution_count": 10,
   "metadata": {},
   "outputs": [
    {
     "data": {
      "image/png": "[encoded data removed]",
      "text/plain": [
       "<Figure size 1080x864 with 5 Axes>"
      ]
     },
     "metadata": {
      "needs_background": "light"
     },
     "output_type": "display_data"
    }
   ],
   "source": [
    "# arrange the plots in 2-by-2 subplots\n",
    "num_rows = 3\n",
    "num_cols = 2\n",
    "\n",
    "fig, axes = plt.subplots(num_rows, num_cols, figsize=(15, 12))\n",
    "\n",
    "# plot the historgrams for the parameters\n",
    "id_ = 0\n",
    "\n",
    "for i in range(num_rows):    \n",
    "    for j in range(num_cols):\n",
    "        if id_ <= betas.shape[0]-1:\n",
    "            axes[i, j].hist(betas[id_,:], alpha=0.6, bins=100, density=True)\n",
    "            axes[i, j].vlines(np.median(betas[id_,:]),0,8,colors='r',label='median')\n",
    "            t = 'β_%.0f' %(id_)   \n",
    "            axes[i, j].set(title=t)\n",
    "            axes[i, j].legend()\n",
    "            id_ = id_ + 1\n",
    "fig.delaxes(axes[2, 1])\n",
    "plt.show()\n"
   ]
  },
  {
   "cell_type": "markdown",
   "metadata": {},
   "source": [
    "Plot the histogram for $R^2$."
   ]
  },
  {
   "cell_type": "code",
   "execution_count": 11,
   "metadata": {},
   "outputs": [
    {
     "data": {
      "image/png": "[encoded data removed]",
      "text/plain": [
       "<Figure size 540x432 with 1 Axes>"
      ]
     },
     "metadata": {
      "needs_background": "light"
     },
     "output_type": "display_data"
    }
   ],
   "source": [
    "fig, axes = plt.subplots(figsize=(7.5, 6))\n",
    "\n",
    "# plot the historgrams for the R^2\n",
    "axes.hist(R2s[0,:], alpha=0.6, bins=100, density=True)\n",
    "axes.vlines(np.median(R2s[0,:]),0,15,colors='r',label='median')\n",
    "t = r'$R^2$'   \n",
    "axes.set(title=t)\n",
    "axes.legend()\n",
    "plt.show()\n"
   ]
  },
  {
   "cell_type": "markdown",
   "metadata": {},
   "source": [
    "#### 1.1.2 A.ii):\n",
    "\n",
    "To construct confidence bands based on the MC simulation, we simply need to compute the percentiles of the parameter distributions."
   ]
  },
  {
   "cell_type": "code",
   "execution_count": 12,
   "metadata": {},
   "outputs": [
    {
     "name": "stdout",
     "output_type": "stream",
     "text": [
      "The MC confidence intervals are: \n",
      "[[ 0.29869141  0.7112007 ]\n",
      " [ 1.34760196  1.64460381]\n",
      " [-0.16560257  0.17025392]\n",
      " [-0.17619271  0.17517853]\n",
      " [-0.11478711  0.11473464]]\n"
     ]
    }
   ],
   "source": [
    "# compute the confidence intervals\n",
    "CI = np.hstack((np.percentile(betas, 5, axis = 1)[:,None], np.percentile(betas, 95, axis = 1)[:,None]))\n",
    "\n",
    "# display the condidence intervals\n",
    "print('The MC confidence intervals are: \\n' + str(CI))"
   ]
  },
  {
   "cell_type": "markdown",
   "metadata": {},
   "source": [
    "#### 1.1.3 A.iii): \n",
    "\n",
    "First, we need to set up a new `X` matrix of independent variables. Then we simply repeat our procedures from above. \n",
    "\n",
    "#### Implementation with `class OLS`:\n",
    "\n",
    "Run the OLS regressions as before."
   ]
  },
  {
   "cell_type": "code",
   "execution_count": 13,
   "metadata": {},
   "outputs": [],
   "source": [
    "# set up the matrix of independent variables. Setting up the matrix outside of the loop speeds up the code.\n",
    "X = np.hstack((np.ones([Y_MC.shape[0],1]),(np.asarray(random.x1)[:,None])))\n",
    "\n",
    "# initialize the output matrices for the betas and R^2\n",
    "betas = np.empty([X.shape[1], Y_MC.shape[1]])\n",
    "R2s = np.empty([1, Y_MC.shape[1]])\n",
    "\n",
    "# run the regression for every Y in the MC exercise\n",
    "for i in range(M):\n",
    "    \n",
    "    # read out the corresponding column of Y\n",
    "    Y = np.asarray(Y_MC[:,i])[:,None]\n",
    "    \n",
    "    # run the regression\n",
    "    MC_beta = OLS(Y,X)\n",
    "    MC_beta.estimate()\n",
    "    \n",
    "    # store the betas and R2 in the output arrays\n",
    "    betas[:,i] = MC_beta.beta.ravel()\n",
    "    R2s[0,i] = MC_beta.R2\n",
    "    "
   ]
  },
  {
   "cell_type": "markdown",
   "metadata": {},
   "source": [
    "Plot the histograms for $\\beta_1$.\n"
   ]
  },
  {
   "cell_type": "code",
   "execution_count": 14,
   "metadata": {},
   "outputs": [
    {
     "data": {
      "image/png": "[encoded data removed]",
      "text/plain": [
       "<Figure size 540x432 with 1 Axes>"
      ]
     },
     "metadata": {
      "needs_background": "light"
     },
     "output_type": "display_data"
    }
   ],
   "source": [
    "fig, axes = plt.subplots(figsize=(7.5, 6))\n",
    "\n",
    "# plot the historgrams for the R^2\n",
    "axes.hist(betas[1,:], alpha=0.6, bins=100, density=True)\n",
    "axes.vlines(np.median(betas[1,:]),0,15,colors='r',label='median')\n",
    "t = r'$\\beta_1$'   \n",
    "axes.set(title=t)\n",
    "axes.legend()\n",
    "plt.show()\n"
   ]
  },
  {
   "cell_type": "markdown",
   "metadata": {},
   "source": [
    "#### Implementation with `statsmodels`:\n",
    "\n",
    "Run the OLS regressions as before."
   ]
  },
  {
   "cell_type": "code",
   "execution_count": 15,
   "metadata": {},
   "outputs": [],
   "source": [
    "# set up the matrix of independent variables. Setting up the matrix outside of the loop speeds up the code.\n",
    "X = np.hstack((np.ones([Y_MC.shape[0],1]),(np.asarray(random.x1)[:,None])))\n",
    "\n",
    "# initialize the output matrices for the betas and R^2\n",
    "betas = np.empty([X.shape[1], Y_MC.shape[1]])\n",
    "R2s = np.empty([1, Y_MC.shape[1]])\n",
    "\n",
    "# run the regression for every Y in the MC exercise\n",
    "for i in range(M):\n",
    "    \n",
    "    # read out the corresponding column of Y\n",
    "    Y = np.asarray(Y_MC[:,i])[:,None]\n",
    "    \n",
    "    # run the regression\n",
    "    model = sm.OLS(Y, X)\n",
    "    results = model.fit()\n",
    "    \n",
    "    # store the betas and R2 in the output arrays\n",
    "    betas[:,i] = results.params.ravel()\n",
    "    R2s[0,i] = results.rsquared"
   ]
  },
  {
   "cell_type": "markdown",
   "metadata": {},
   "source": [
    "Plot the histograms for $\\beta_1$."
   ]
  },
  {
   "cell_type": "code",
   "execution_count": 16,
   "metadata": {},
   "outputs": [
    {
     "data": {
      "image/png": "[encoded data removed]",
      "text/plain": [
       "<Figure size 540x432 with 1 Axes>"
      ]
     },
     "metadata": {
      "needs_background": "light"
     },
     "output_type": "display_data"
    }
   ],
   "source": [
    "fig, axes = plt.subplots(figsize=(7.5, 6))\n",
    "\n",
    "# plot the historgrams for the R^2\n",
    "axes.hist(betas[1,:], alpha=0.6, bins=100, density=True)\n",
    "axes.vlines(np.median(betas[1,:]),0,15,colors='r',label='median')\n",
    "t = r'$\\beta_1$'    \n",
    "axes.set(title=t)\n",
    "axes.legend()\n",
    "plt.show()\n"
   ]
  },
  {
   "cell_type": "markdown",
   "metadata": {},
   "source": [
    "#### 1.1.4 A.iv):"
   ]
  },
  {
   "cell_type": "markdown",
   "metadata": {},
   "source": [
    "#### 1.1.5 A.v):"
   ]
  },
  {
   "cell_type": "markdown",
   "metadata": {},
   "source": [
    "#### 1.1.6 A.vi):\n",
    "\n",
    "The below code is one of many possible solutions."
   ]
  },
  {
   "cell_type": "code",
   "execution_count": 17,
   "metadata": {},
   "outputs": [],
   "source": [
    "from ipywidgets import *"
   ]
  },
  {
   "cell_type": "code",
   "execution_count": 18,
   "metadata": {},
   "outputs": [
    {
     "data": {
      "application/vnd.jupyter.widget-view+json": {
       "model_id": "381fe41f797347b1b644f52690f056f3",
       "version_major": 2,
       "version_minor": 0
      },
      "text/plain": [
       "interactive(children=(IntSlider(value=100, description='M', max=2000, min=100, step=100), Output()), _dom_clas…"
      ]
     },
     "metadata": {},
     "output_type": "display_data"
    }
   ],
   "source": [
    "def size_effect(M=100):\n",
    "    \n",
    "    # obtain a sample of simulated data\n",
    "    Y_MC_ = simul(M, N, np.asarray(random.x1)[:,None], 0.5, 1.5)\n",
    "    \n",
    "    # -------------------------------- generate R^2 for the first regression ------------------------------#\n",
    "    \n",
    "    # set up the matrix of independent variables. Setting up the matrix outside of the loop speeds up the code.\n",
    "    X = np.hstack((np.ones([Y_MC.shape[0],1]),(np.asarray(random.x1)[:,None]), (np.asarray(random.x2)[:,None]), (np.asarray(random.x3)[:,None]), (np.asarray(random.x3)[:,None])**2))\n",
    "\n",
    "    # initialize the output matrices for the betas and R^2\n",
    "    betas = np.empty([X.shape[1], M])\n",
    "    R2s = np.empty([1, Y_MC_.shape[1]])\n",
    "\n",
    "    # run the regression for every Y in the MC exercise\n",
    "    for i in range(M):\n",
    "    \n",
    "        # read out the corresponding column of Y\n",
    "        Y = np.asarray(Y_MC[:,i])[:,None]\n",
    "    \n",
    "        # run the regression\n",
    "        model = sm.OLS(Y, X)\n",
    "        results = model.fit()\n",
    "    \n",
    "        # store R2 in the output arrays\n",
    "        R2s[0,i] = results.rsquared\n",
    "        betas[:,i] = results.params.ravel()\n",
    "    \n",
    "    \n",
    "    fig, axes = plt.subplots()\n",
    "    #axes.plot(Y_MC_[0,:])\n",
    "    axes.hist(betas[1,:], alpha=0.5, bins=100, density=True)\n",
    "    axes.vlines(np.median(betas[1,:]),0,15,colors='r',label='median first regression')\n",
    "    \n",
    "    # -------------------------------- generate R^2 for the second regression ------------------------------#\n",
    "    \n",
    "    \n",
    "    # set up the matrix of independent variables. Setting up the matrix outside of the loop speeds up the code.\n",
    "    X = np.hstack((np.ones([Y_MC.shape[0],1]),(np.asarray(random.x1)[:,None])))\n",
    "\n",
    "    # initialize the output matrices for the betas and R^2\n",
    "    betas = np.empty([X.shape[1], M])\n",
    "    R2s = np.empty([1, Y_MC_.shape[1]])\n",
    "\n",
    "    # run the regression for every Y in the MC exercise\n",
    "    for i in range(M):\n",
    "    \n",
    "        # read out the corresponding column of Y\n",
    "        Y = np.asarray(Y_MC[:,i])[:,None]\n",
    "    \n",
    "        # run the regression\n",
    "        model = sm.OLS(Y, X)\n",
    "        results = model.fit()\n",
    "    \n",
    "        # store the betas and R2 in the output arrays\n",
    "        betas[:,i] = results.params.ravel()\n",
    "        R2s[0,i] = results.rsquared\n",
    "\n",
    "    axes.hist(betas[1,:], alpha=0.5, bins=100, density=True)\n",
    "    axes.vlines(np.median(betas[1,:]),0,15,colors='k',label='median second regression')\n",
    "    axes.legend()\n",
    "    \n",
    "    return plt.show()\n",
    "\n",
    "slider = interactive(size_effect, M =(100, 2000, 100))\n",
    " \n",
    "#display the resulting slider\n",
    "display(slider)"
   ]
  },
  {
   "cell_type": "markdown",
   "metadata": {},
   "source": [
    "### 1.2 Exercise B:\n",
    "\n",
    "#### 1.2.1 B.i):\n",
    "\n",
    "Read in the provided data."
   ]
  },
  {
   "cell_type": "code",
   "execution_count": 19,
   "metadata": {},
   "outputs": [
    {
     "data": {
      "text/html": [
       "<div>\n",
       "<style scoped>\n",
       "    .dataframe tbody tr th:only-of-type {\n",
       "        vertical-align: middle;\n",
       "    }\n",
       "\n",
       "    .dataframe tbody tr th {\n",
       "        vertical-align: top;\n",
       "    }\n",
       "\n",
       "    .dataframe thead th {\n",
       "        text-align: right;\n",
       "    }\n",
       "</style>\n",
       "<table border=\"1\" class=\"dataframe\">\n",
       "  <thead>\n",
       "    <tr style=\"text-align: right;\">\n",
       "      <th></th>\n",
       "      <th>varekonsum</th>\n",
       "    </tr>\n",
       "  </thead>\n",
       "  <tbody>\n",
       "    <tr>\n",
       "      <th>2000-01-31</th>\n",
       "      <td>77.1</td>\n",
       "    </tr>\n",
       "    <tr>\n",
       "      <th>2000-02-29</th>\n",
       "      <td>75.8</td>\n",
       "    </tr>\n",
       "    <tr>\n",
       "      <th>2000-03-31</th>\n",
       "      <td>80.7</td>\n",
       "    </tr>\n",
       "    <tr>\n",
       "      <th>2000-04-30</th>\n",
       "      <td>76.2</td>\n",
       "    </tr>\n",
       "    <tr>\n",
       "      <th>2000-05-31</th>\n",
       "      <td>83.4</td>\n",
       "    </tr>\n",
       "  </tbody>\n",
       "</table>\n",
       "</div>"
      ],
      "text/plain": [
       "            varekonsum\n",
       "2000-01-31        77.1\n",
       "2000-02-29        75.8\n",
       "2000-03-31        80.7\n",
       "2000-04-30        76.2\n",
       "2000-05-31        83.4"
      ]
     },
     "execution_count": 19,
     "metadata": {},
     "output_type": "execute_result"
    }
   ],
   "source": [
    "# read in the data sheet\n",
    "varekonsum = pd.read_excel('varekonsum.xlsx', usecols=\"C:IT\", header=3).T\n",
    "varekonsum = varekonsum.dropna(axis=1)\n",
    "\n",
    "# adjust columnlabel\n",
    "varekonsum.columns =['varekonsum']\n",
    "\n",
    "# replace the index with a machine readable format\n",
    "varekonsum.index = pd.date_range(start='31/01/2000', end='31/12/2020', freq='M')\n",
    "\n",
    "# display the data\n",
    "varekonsum.head()"
   ]
  },
  {
   "cell_type": "markdown",
   "metadata": {},
   "source": [
    "Plot the data."
   ]
  },
  {
   "cell_type": "code",
   "execution_count": 20,
   "metadata": {},
   "outputs": [
    {
     "data": {
      "image/png": "[encoded data removed]",
      "text/plain": [
       "<Figure size 540x432 with 1 Axes>"
      ]
     },
     "metadata": {
      "needs_background": "light"
     },
     "output_type": "display_data"
    }
   ],
   "source": [
    "fig, axes = plt.subplots(figsize=(7.5, 6))\n",
    "\n",
    "# plot the data\n",
    "axes.plot(varekonsum.index,varekonsum.varekonsum, label='varekonsum')\n",
    "axes.set(title='varekonsum')\n",
    "axes.legend()\n",
    "plt.show()"
   ]
  },
  {
   "cell_type": "markdown",
   "metadata": {},
   "source": [
    "#### 1.2.2 B.ii):\n",
    "\n",
    "Create a December `dummy`."
   ]
  },
  {
   "cell_type": "code",
   "execution_count": 21,
   "metadata": {},
   "outputs": [
    {
     "data": {
      "text/html": [
       "<div>\n",
       "<style scoped>\n",
       "    .dataframe tbody tr th:only-of-type {\n",
       "        vertical-align: middle;\n",
       "    }\n",
       "\n",
       "    .dataframe tbody tr th {\n",
       "        vertical-align: top;\n",
       "    }\n",
       "\n",
       "    .dataframe thead th {\n",
       "        text-align: right;\n",
       "    }\n",
       "</style>\n",
       "<table border=\"1\" class=\"dataframe\">\n",
       "  <thead>\n",
       "    <tr style=\"text-align: right;\">\n",
       "      <th></th>\n",
       "      <th>varekonsum</th>\n",
       "      <th>dum</th>\n",
       "    </tr>\n",
       "  </thead>\n",
       "  <tbody>\n",
       "    <tr>\n",
       "      <th>2000-01-31</th>\n",
       "      <td>77.1</td>\n",
       "      <td>0</td>\n",
       "    </tr>\n",
       "    <tr>\n",
       "      <th>2000-02-29</th>\n",
       "      <td>75.8</td>\n",
       "      <td>0</td>\n",
       "    </tr>\n",
       "    <tr>\n",
       "      <th>2000-03-31</th>\n",
       "      <td>80.7</td>\n",
       "      <td>0</td>\n",
       "    </tr>\n",
       "    <tr>\n",
       "      <th>2000-04-30</th>\n",
       "      <td>76.2</td>\n",
       "      <td>0</td>\n",
       "    </tr>\n",
       "    <tr>\n",
       "      <th>2000-05-31</th>\n",
       "      <td>83.4</td>\n",
       "      <td>0</td>\n",
       "    </tr>\n",
       "  </tbody>\n",
       "</table>\n",
       "</div>"
      ],
      "text/plain": [
       "            varekonsum  dum\n",
       "2000-01-31        77.1    0\n",
       "2000-02-29        75.8    0\n",
       "2000-03-31        80.7    0\n",
       "2000-04-30        76.2    0\n",
       "2000-05-31        83.4    0"
      ]
     },
     "execution_count": 21,
     "metadata": {},
     "output_type": "execute_result"
    }
   ],
   "source": [
    "# with the index in datetime, we can easily create a dummy using logical operators\n",
    "varekonsum['dum'] = list(map(int, varekonsum.index.month == 12))\n",
    "varekonsum.head()"
   ]
  },
  {
   "cell_type": "markdown",
   "metadata": {},
   "source": [
    "#### 1.2.3 B.iii):\n",
    "\n",
    "#### Implementation with `class OLS`:"
   ]
  },
  {
   "cell_type": "code",
   "execution_count": 22,
   "metadata": {},
   "outputs": [],
   "source": [
    "# set up the vector containing the dependent variable\n",
    "Y = np.asarray(varekonsum.varekonsum)[:,None]\n",
    "\n",
    "# set up the matrix of independent variables. \n",
    "X = np.hstack((np.ones([Y.shape[0],1]), (np.arange(1, Y.shape[0]+1, 1)[:,None]), (np.asarray(varekonsum.dum)[:,None])))"
   ]
  },
  {
   "cell_type": "markdown",
   "metadata": {},
   "source": [
    "Run the OLS regression."
   ]
  },
  {
   "cell_type": "code",
   "execution_count": 23,
   "metadata": {},
   "outputs": [
    {
     "data": {
      "text/html": [
       "<div>\n",
       "<style scoped>\n",
       "    .dataframe tbody tr th:only-of-type {\n",
       "        vertical-align: middle;\n",
       "    }\n",
       "\n",
       "    .dataframe tbody tr th {\n",
       "        vertical-align: top;\n",
       "    }\n",
       "\n",
       "    .dataframe thead th {\n",
       "        text-align: right;\n",
       "    }\n",
       "</style>\n",
       "<table border=\"1\" class=\"dataframe\">\n",
       "  <thead>\n",
       "    <tr style=\"text-align: right;\">\n",
       "      <th></th>\n",
       "      <th>beta</th>\n",
       "      <th>se</th>\n",
       "      <th>t-statistic</th>\n",
       "      <th>p-value</th>\n",
       "      <th>CI - lower</th>\n",
       "      <th>CI - upper</th>\n",
       "    </tr>\n",
       "  </thead>\n",
       "  <tbody>\n",
       "    <tr>\n",
       "      <th>0</th>\n",
       "      <td>81.770515</td>\n",
       "      <td>0.817937</td>\n",
       "      <td>99.971668</td>\n",
       "      <td>0.0</td>\n",
       "      <td>80.167388</td>\n",
       "      <td>83.373642</td>\n",
       "    </tr>\n",
       "    <tr>\n",
       "      <th>1</th>\n",
       "      <td>0.233684</td>\n",
       "      <td>0.005559</td>\n",
       "      <td>42.033766</td>\n",
       "      <td>0.0</td>\n",
       "      <td>0.222788</td>\n",
       "      <td>0.244580</td>\n",
       "    </tr>\n",
       "    <tr>\n",
       "      <th>2</th>\n",
       "      <td>28.530796</td>\n",
       "      <td>1.463263</td>\n",
       "      <td>19.498065</td>\n",
       "      <td>0.0</td>\n",
       "      <td>25.662853</td>\n",
       "      <td>31.398738</td>\n",
       "    </tr>\n",
       "  </tbody>\n",
       "</table>\n",
       "</div>"
      ],
      "text/plain": [
       "        beta        se  t-statistic  p-value  CI - lower  CI - upper\n",
       "0  81.770515  0.817937    99.971668      0.0   80.167388   83.373642\n",
       "1   0.233684  0.005559    42.033766      0.0    0.222788    0.244580\n",
       "2  28.530796  1.463263    19.498065      0.0   25.662853   31.398738"
      ]
     },
     "execution_count": 23,
     "metadata": {},
     "output_type": "execute_result"
    }
   ],
   "source": [
    "# run the regression\n",
    "beta = OLS(Y,X)\n",
    "beta.estimate()"
   ]
  },
  {
   "cell_type": "markdown",
   "metadata": {},
   "source": [
    "Plot the residuals."
   ]
  },
  {
   "cell_type": "code",
   "execution_count": 24,
   "metadata": {},
   "outputs": [
    {
     "data": {
      "image/png": "[encoded data removed]",
      "text/plain": [
       "<Figure size 540x432 with 1 Axes>"
      ]
     },
     "metadata": {
      "needs_background": "light"
     },
     "output_type": "display_data"
    }
   ],
   "source": [
    "fig, axes = plt.subplots(figsize=(7.5, 6))\n",
    "\n",
    "# plot the data\n",
    "axes.plot(varekonsum.index,beta.eps, label='residuals')\n",
    "axes.set(title='residuals')\n",
    "axes.legend()\n",
    "plt.show()"
   ]
  },
  {
   "cell_type": "markdown",
   "metadata": {},
   "source": [
    "#### Implementation with `statsmodels`:"
   ]
  },
  {
   "cell_type": "code",
   "execution_count": 25,
   "metadata": {},
   "outputs": [],
   "source": [
    "# set up the vector containing the dependent variable\n",
    "Y = np.asarray(varekonsum.varekonsum)[:,None]\n",
    "\n",
    "# set up the matrix of independent variables. \n",
    "X = np.hstack((np.ones([Y.shape[0],1]), (np.arange(1, Y.shape[0]+1, 1)[:,None]), (np.asarray(varekonsum.dum)[:,None])))"
   ]
  },
  {
   "cell_type": "markdown",
   "metadata": {},
   "source": [
    "Run the OLS regression."
   ]
  },
  {
   "cell_type": "code",
   "execution_count": 26,
   "metadata": {},
   "outputs": [],
   "source": [
    "# run the regression\n",
    "model = sm.OLS(Y, X)\n",
    "results = model.fit()"
   ]
  },
  {
   "cell_type": "markdown",
   "metadata": {},
   "source": [
    "Plot the residuals."
   ]
  },
  {
   "cell_type": "code",
   "execution_count": 27,
   "metadata": {},
   "outputs": [
    {
     "data": {
      "image/png": "[encoded data removed]",
      "text/plain": [
       "<Figure size 540x432 with 1 Axes>"
      ]
     },
     "metadata": {
      "needs_background": "light"
     },
     "output_type": "display_data"
    }
   ],
   "source": [
    "fig, axes = plt.subplots(figsize=(7.5, 6))\n",
    "\n",
    "# plot the data\n",
    "axes.plot(varekonsum.index,results.resid, label='residuals')\n",
    "axes.set(title='residuals')\n",
    "axes.legend()\n",
    "plt.show()"
   ]
  },
  {
   "cell_type": "markdown",
   "metadata": {},
   "source": [
    "#### 1.2.4 B.iv):\n",
    "\n",
    "We first have to compute the year-on-year growth rates. "
   ]
  },
  {
   "cell_type": "code",
   "execution_count": 28,
   "metadata": {},
   "outputs": [
    {
     "data": {
      "text/html": [
       "<div>\n",
       "<style scoped>\n",
       "    .dataframe tbody tr th:only-of-type {\n",
       "        vertical-align: middle;\n",
       "    }\n",
       "\n",
       "    .dataframe tbody tr th {\n",
       "        vertical-align: top;\n",
       "    }\n",
       "\n",
       "    .dataframe thead th {\n",
       "        text-align: right;\n",
       "    }\n",
       "</style>\n",
       "<table border=\"1\" class=\"dataframe\">\n",
       "  <thead>\n",
       "    <tr style=\"text-align: right;\">\n",
       "      <th></th>\n",
       "      <th>varekonsum</th>\n",
       "      <th>dum</th>\n",
       "      <th>d12y</th>\n",
       "    </tr>\n",
       "  </thead>\n",
       "  <tbody>\n",
       "    <tr>\n",
       "      <th>2001-01-31</th>\n",
       "      <td>80.0</td>\n",
       "      <td>0</td>\n",
       "      <td>0.036923</td>\n",
       "    </tr>\n",
       "    <tr>\n",
       "      <th>2001-02-28</th>\n",
       "      <td>75.1</td>\n",
       "      <td>0</td>\n",
       "      <td>-0.009278</td>\n",
       "    </tr>\n",
       "    <tr>\n",
       "      <th>2001-03-31</th>\n",
       "      <td>83.3</td>\n",
       "      <td>0</td>\n",
       "      <td>0.031710</td>\n",
       "    </tr>\n",
       "    <tr>\n",
       "      <th>2001-04-30</th>\n",
       "      <td>77.5</td>\n",
       "      <td>0</td>\n",
       "      <td>0.016916</td>\n",
       "    </tr>\n",
       "    <tr>\n",
       "      <th>2001-05-31</th>\n",
       "      <td>83.2</td>\n",
       "      <td>0</td>\n",
       "      <td>-0.002401</td>\n",
       "    </tr>\n",
       "  </tbody>\n",
       "</table>\n",
       "</div>"
      ],
      "text/plain": [
       "            varekonsum  dum      d12y\n",
       "2001-01-31        80.0    0  0.036923\n",
       "2001-02-28        75.1    0 -0.009278\n",
       "2001-03-31        83.3    0  0.031710\n",
       "2001-04-30        77.5    0  0.016916\n",
       "2001-05-31        83.2    0 -0.002401"
      ]
     },
     "execution_count": 28,
     "metadata": {},
     "output_type": "execute_result"
    }
   ],
   "source": [
    "# compute year-on-year log differences\n",
    "varekonsum['d12y'] = np.log(varekonsum.varekonsum).diff(12)\n",
    "\n",
    "# drop the missing values that arise due to differencing\n",
    "varekonsum = varekonsum.dropna(axis=0)\n",
    "varekonsum.head()"
   ]
  },
  {
   "cell_type": "markdown",
   "metadata": {},
   "source": [
    "Plot the series."
   ]
  },
  {
   "cell_type": "code",
   "execution_count": 29,
   "metadata": {},
   "outputs": [
    {
     "data": {
      "image/png": "[encoded data removed]",
      "text/plain": [
       "<Figure size 540x432 with 1 Axes>"
      ]
     },
     "metadata": {
      "needs_background": "light"
     },
     "output_type": "display_data"
    }
   ],
   "source": [
    "fig, axes = plt.subplots(figsize=(7.5, 6))\n",
    "\n",
    "# plot the data\n",
    "axes.plot(varekonsum.index,varekonsum.d12y, label='d12y')\n",
    "axes.set(title='y-o-y Varekonsum')\n",
    "axes.legend()\n",
    "plt.show()"
   ]
  },
  {
   "cell_type": "markdown",
   "metadata": {},
   "source": [
    "#### 1.2.5 B.v):\n",
    "\n",
    "#### Implementation with `class OLS`:"
   ]
  },
  {
   "cell_type": "code",
   "execution_count": 30,
   "metadata": {},
   "outputs": [],
   "source": [
    "# set up the vector containing the dependent variable\n",
    "Y = np.asarray(varekonsum.d12y[1:])[:,None]\n",
    "\n",
    "# set up the matrix of independent variables. \n",
    "X = np.hstack((np.ones([Y.shape[0],1]), np.asarray(varekonsum.d12y[:-1])[:,None]))"
   ]
  },
  {
   "cell_type": "markdown",
   "metadata": {},
   "source": [
    "Run the OLS regression."
   ]
  },
  {
   "cell_type": "code",
   "execution_count": 31,
   "metadata": {},
   "outputs": [
    {
     "data": {
      "text/html": [
       "<div>\n",
       "<style scoped>\n",
       "    .dataframe tbody tr th:only-of-type {\n",
       "        vertical-align: middle;\n",
       "    }\n",
       "\n",
       "    .dataframe tbody tr th {\n",
       "        vertical-align: top;\n",
       "    }\n",
       "\n",
       "    .dataframe thead th {\n",
       "        text-align: right;\n",
       "    }\n",
       "</style>\n",
       "<table border=\"1\" class=\"dataframe\">\n",
       "  <thead>\n",
       "    <tr style=\"text-align: right;\">\n",
       "      <th></th>\n",
       "      <th>beta</th>\n",
       "      <th>se</th>\n",
       "      <th>t-statistic</th>\n",
       "      <th>p-value</th>\n",
       "      <th>CI - lower</th>\n",
       "      <th>CI - upper</th>\n",
       "    </tr>\n",
       "  </thead>\n",
       "  <tbody>\n",
       "    <tr>\n",
       "      <th>0</th>\n",
       "      <td>0.018014</td>\n",
       "      <td>0.002818</td>\n",
       "      <td>6.391915</td>\n",
       "      <td>1.638210e-10</td>\n",
       "      <td>0.012490</td>\n",
       "      <td>0.023538</td>\n",
       "    </tr>\n",
       "    <tr>\n",
       "      <th>1</th>\n",
       "      <td>0.332456</td>\n",
       "      <td>0.062188</td>\n",
       "      <td>5.345970</td>\n",
       "      <td>8.993419e-08</td>\n",
       "      <td>0.210569</td>\n",
       "      <td>0.454342</td>\n",
       "    </tr>\n",
       "  </tbody>\n",
       "</table>\n",
       "</div>"
      ],
      "text/plain": [
       "       beta        se  t-statistic       p-value  CI - lower  CI - upper\n",
       "0  0.018014  0.002818     6.391915  1.638210e-10    0.012490    0.023538\n",
       "1  0.332456  0.062188     5.345970  8.993419e-08    0.210569    0.454342"
      ]
     },
     "execution_count": 31,
     "metadata": {},
     "output_type": "execute_result"
    }
   ],
   "source": [
    "# run the regression\n",
    "beta = OLS(Y,X)\n",
    "beta.estimate()"
   ]
  },
  {
   "cell_type": "markdown",
   "metadata": {},
   "source": [
    "#### Implementation with `statsmodels`:"
   ]
  },
  {
   "cell_type": "code",
   "execution_count": 32,
   "metadata": {},
   "outputs": [],
   "source": [
    "# set up the vector containing the dependent variable\n",
    "Y = np.asarray(varekonsum.d12y[1:])[:,None]\n",
    "\n",
    "# set up the matrix of independent variables. \n",
    "X = np.hstack((np.ones([Y.shape[0],1]), np.asarray(varekonsum.d12y[:-1])[:,None]))"
   ]
  },
  {
   "cell_type": "markdown",
   "metadata": {},
   "source": [
    "Run the OLS regression."
   ]
  },
  {
   "cell_type": "code",
   "execution_count": 33,
   "metadata": {},
   "outputs": [
    {
     "name": "stdout",
     "output_type": "stream",
     "text": [
      "                            OLS Regression Results                            \n",
      "==============================================================================\n",
      "Dep. Variable:                      y   R-squared:                       0.108\n",
      "Model:                            OLS   Adj. R-squared:                  0.104\n",
      "Method:                 Least Squares   F-statistic:                     28.58\n",
      "Date:                Wed, 24 Mar 2021   Prob (F-statistic):           2.11e-07\n",
      "Time:                        13:37:50   Log-Likelihood:                 460.58\n",
      "No. Observations:                 239   AIC:                            -917.2\n",
      "Df Residuals:                     237   BIC:                            -910.2\n",
      "Df Model:                           1                                         \n",
      "Covariance Type:            nonrobust                                         \n",
      "==============================================================================\n",
      "                 coef    std err          t      P>|t|      [0.025      0.975]\n",
      "------------------------------------------------------------------------------\n",
      "const          0.0180      0.003      6.392      0.000       0.012       0.024\n",
      "x1             0.3325      0.062      5.346      0.000       0.210       0.455\n",
      "==============================================================================\n",
      "Omnibus:                        3.456   Durbin-Watson:                   2.172\n",
      "Prob(Omnibus):                  0.178   Jarque-Bera (JB):                3.657\n",
      "Skew:                           0.122   Prob(JB):                        0.161\n",
      "Kurtosis:                       3.555   Cond. No.                         27.2\n",
      "==============================================================================\n",
      "\n",
      "Notes:\n",
      "[1] Standard Errors assume that the covariance matrix of the errors is correctly specified.\n"
     ]
    }
   ],
   "source": [
    "# run the regression\n",
    "model = sm.OLS(Y, X)\n",
    "results = model.fit()\n",
    "print(results.summary())"
   ]
  },
  {
   "cell_type": "markdown",
   "metadata": {},
   "source": [
    "#### 1.2.6 B.vi):\n",
    "\n",
    "First we need to write some code that allows us to choose the order of the AR process flexibly, estimates the OLS regression and computes the BIC.\n",
    "\n",
    "#### Implementation with `class OLS`:"
   ]
  },
  {
   "cell_type": "code",
   "execution_count": 34,
   "metadata": {},
   "outputs": [],
   "source": [
    "# write a function that generates the regression matrices for an AR(p)\n",
    "def AR(data, p):\n",
    "    Y = np.asarray(data.d12y[p:])[:,None]\n",
    "    X = np.ones([Y.shape[0],1])\n",
    "    \n",
    "    # we now simply need to stack the other AR coefficients onto the \n",
    "    for i in np.arange(1,p+1,1):\n",
    "        X = np.hstack((X, np.asarray(data.d12y[p-i:-i])[:,None]))\n",
    "        \n",
    "    return Y, X\n",
    "\n",
    "\n",
    "# write a function that returns the BIC for every AR(p) process\n",
    "def BIC(data, max_p):\n",
    "    \n",
    "    # inititlaize the matrix\n",
    "    BIC_ = np.empty([max_p, 1])\n",
    "    \n",
    "    for i in np.arange(max_p)+1:\n",
    "        # obtain Y and X\n",
    "        Y, X = AR(data, i)\n",
    "        \n",
    "        # run OLS regression\n",
    "        beta = OLS(Y,X)\n",
    "        beta.estimate()\n",
    "        \n",
    "        # degrees of freedom adjustment\n",
    "        k = X.shape[1] + 1\n",
    "        \n",
    "        # compute BIC\n",
    "        BIC_[i-1] = Y.shape[0] * np.log(beta.s_hat) + (X.shape[1]+1)*np.log(Y.shape[0])\n",
    "    \n",
    "    p_opt = np.argmin(BIC_) + 1\n",
    "    \n",
    "    return BIC_, p_opt"
   ]
  },
  {
   "cell_type": "markdown",
   "metadata": {},
   "source": [
    "Compute the BIC for each lag length and obtain the `argmin`. "
   ]
  },
  {
   "cell_type": "code",
   "execution_count": 35,
   "metadata": {},
   "outputs": [
    {
     "name": "stdout",
     "output_type": "stream",
     "text": [
      "The optimal lag length is:\n",
      " p = 3\n"
     ]
    }
   ],
   "source": [
    "BIC_, p_opt = BIC(varekonsum,10)\n",
    "\n",
    "print('The optimal lag length is:\\n p = ' + str(p_opt))"
   ]
  },
  {
   "cell_type": "markdown",
   "metadata": {},
   "source": [
    "#### Implementation with `statsmodels`:"
   ]
  },
  {
   "cell_type": "code",
   "execution_count": 36,
   "metadata": {},
   "outputs": [],
   "source": [
    "# write a function that generates the regression matrices for an AR(p)\n",
    "def AR(data, p):\n",
    "    Y = np.asarray(data.d12y[p:])[:,None]\n",
    "    X = np.ones([Y.shape[0],1])\n",
    "    \n",
    "    # we now simply need to stack the other AR coefficients onto the \n",
    "    for i in np.arange(1,p+1,1):\n",
    "        X = np.hstack((X, np.asarray(data.d12y[p-i:-i])[:,None]))\n",
    "        \n",
    "    return Y, X\n",
    "\n",
    "\n",
    "# write a function that returns the BIC for every AR(p) process\n",
    "def BIC(data, max_p):\n",
    "    \n",
    "    # inititlaize the matrix\n",
    "    BIC_ = np.empty([max_p, 1])\n",
    "    \n",
    "    for i in np.arange(max_p)+1:\n",
    "        # obtain Y and X\n",
    "        Y, X = AR(data, i)\n",
    "        \n",
    "        # run OLS regression\n",
    "        model = sm.OLS(Y, X)\n",
    "        results = model.fit()\n",
    "        \n",
    "        # compute the BIC\n",
    "        BIC_[i-1] = results.bic \n",
    "        p_opt = np.argmin(BIC_) + 1\n",
    "    \n",
    "    return BIC_, p_opt"
   ]
  },
  {
   "cell_type": "markdown",
   "metadata": {},
   "source": [
    "Compute the BIC for each lag length and obtain the `argmin`. "
   ]
  },
  {
   "cell_type": "code",
   "execution_count": 37,
   "metadata": {},
   "outputs": [
    {
     "name": "stdout",
     "output_type": "stream",
     "text": [
      "The optimal lag length is:\n",
      " p = 3\n"
     ]
    }
   ],
   "source": [
    "BIC_, p_opt = BIC(varekonsum,10)\n",
    "print('The optimal lag length is:\\n p = ' + str(p_opt))"
   ]
  },
  {
   "cell_type": "markdown",
   "metadata": {},
   "source": [
    "### 1.3 Exercise C:\n",
    "\n",
    "#### 1.3.1 C.i):"
   ]
  },
  {
   "cell_type": "code",
   "execution_count": 38,
   "metadata": {},
   "outputs": [],
   "source": [
    "# read-in the data\n",
    "financial_data = pd.read_csv('2018_Financial_Data.csv')"
   ]
  },
  {
   "cell_type": "code",
   "execution_count": 39,
   "metadata": {},
   "outputs": [],
   "source": [
    "# set company name as index\n",
    "financial_data = financial_data.set_index('Unnamed: 0')\n",
    "\n",
    "# convert sector to categorical\n",
    "financial_data[\"Sector\"] = financial_data[\"Sector\"].astype('category')\n",
    "financial_data[\"Sector\"] = financial_data[\"Sector\"].cat.codes"
   ]
  },
  {
   "cell_type": "markdown",
   "metadata": {},
   "source": [
    "Replace missing values with `0`."
   ]
  },
  {
   "cell_type": "code",
   "execution_count": 40,
   "metadata": {},
   "outputs": [
    {
     "data": {
      "text/html": [
       "<div>\n",
       "<style scoped>\n",
       "    .dataframe tbody tr th:only-of-type {\n",
       "        vertical-align: middle;\n",
       "    }\n",
       "\n",
       "    .dataframe tbody tr th {\n",
       "        vertical-align: top;\n",
       "    }\n",
       "\n",
       "    .dataframe thead th {\n",
       "        text-align: right;\n",
       "    }\n",
       "</style>\n",
       "<table border=\"1\" class=\"dataframe\">\n",
       "  <thead>\n",
       "    <tr style=\"text-align: right;\">\n",
       "      <th></th>\n",
       "      <th>Revenue</th>\n",
       "      <th>Revenue Growth</th>\n",
       "      <th>Cost of Revenue</th>\n",
       "      <th>Gross Profit</th>\n",
       "      <th>R&amp;D Expenses</th>\n",
       "      <th>SG&amp;A Expense</th>\n",
       "      <th>Operating Expenses</th>\n",
       "      <th>Operating Income</th>\n",
       "      <th>Interest Expense</th>\n",
       "      <th>Earnings before Tax</th>\n",
       "      <th>...</th>\n",
       "      <th>Receivables growth</th>\n",
       "      <th>Inventory Growth</th>\n",
       "      <th>Asset Growth</th>\n",
       "      <th>Book Value per Share Growth</th>\n",
       "      <th>Debt Growth</th>\n",
       "      <th>R&amp;D Expense Growth</th>\n",
       "      <th>SG&amp;A Expenses Growth</th>\n",
       "      <th>Sector</th>\n",
       "      <th>2019 PRICE VAR [%]</th>\n",
       "      <th>Class</th>\n",
       "    </tr>\n",
       "    <tr>\n",
       "      <th>Unnamed: 0</th>\n",
       "      <th></th>\n",
       "      <th></th>\n",
       "      <th></th>\n",
       "      <th></th>\n",
       "      <th></th>\n",
       "      <th></th>\n",
       "      <th></th>\n",
       "      <th></th>\n",
       "      <th></th>\n",
       "      <th></th>\n",
       "      <th></th>\n",
       "      <th></th>\n",
       "      <th></th>\n",
       "      <th></th>\n",
       "      <th></th>\n",
       "      <th></th>\n",
       "      <th></th>\n",
       "      <th></th>\n",
       "      <th></th>\n",
       "      <th></th>\n",
       "      <th></th>\n",
       "    </tr>\n",
       "  </thead>\n",
       "  <tbody>\n",
       "    <tr>\n",
       "      <th>CMCSA</th>\n",
       "      <td>9.450700e+10</td>\n",
       "      <td>0.1115</td>\n",
       "      <td>0.000000e+00</td>\n",
       "      <td>9.450700e+10</td>\n",
       "      <td>0.000000e+00</td>\n",
       "      <td>6.482200e+10</td>\n",
       "      <td>7.549800e+10</td>\n",
       "      <td>1.900900e+10</td>\n",
       "      <td>3.542000e+09</td>\n",
       "      <td>1.511100e+10</td>\n",
       "      <td>...</td>\n",
       "      <td>0.2570</td>\n",
       "      <td>0.0000</td>\n",
       "      <td>0.3426</td>\n",
       "      <td>0.0722</td>\n",
       "      <td>0.7309</td>\n",
       "      <td>0.0000</td>\n",
       "      <td>0.1308</td>\n",
       "      <td>2</td>\n",
       "      <td>32.794573</td>\n",
       "      <td>1</td>\n",
       "    </tr>\n",
       "    <tr>\n",
       "      <th>KMI</th>\n",
       "      <td>1.414400e+10</td>\n",
       "      <td>0.0320</td>\n",
       "      <td>7.288000e+09</td>\n",
       "      <td>6.856000e+09</td>\n",
       "      <td>0.000000e+00</td>\n",
       "      <td>6.010000e+08</td>\n",
       "      <td>3.062000e+09</td>\n",
       "      <td>3.794000e+09</td>\n",
       "      <td>1.917000e+09</td>\n",
       "      <td>2.196000e+09</td>\n",
       "      <td>...</td>\n",
       "      <td>0.0345</td>\n",
       "      <td>-0.0920</td>\n",
       "      <td>-0.0024</td>\n",
       "      <td>0.0076</td>\n",
       "      <td>-0.0137</td>\n",
       "      <td>0.0000</td>\n",
       "      <td>-0.1265</td>\n",
       "      <td>4</td>\n",
       "      <td>40.588068</td>\n",
       "      <td>1</td>\n",
       "    </tr>\n",
       "    <tr>\n",
       "      <th>INTC</th>\n",
       "      <td>7.084800e+10</td>\n",
       "      <td>0.1289</td>\n",
       "      <td>2.711100e+10</td>\n",
       "      <td>4.373700e+10</td>\n",
       "      <td>1.354300e+10</td>\n",
       "      <td>6.750000e+09</td>\n",
       "      <td>2.042100e+10</td>\n",
       "      <td>2.331600e+10</td>\n",
       "      <td>-1.260000e+08</td>\n",
       "      <td>2.331700e+10</td>\n",
       "      <td>...</td>\n",
       "      <td>0.1989</td>\n",
       "      <td>0.0387</td>\n",
       "      <td>0.0382</td>\n",
       "      <td>0.1014</td>\n",
       "      <td>-0.0169</td>\n",
       "      <td>0.0390</td>\n",
       "      <td>-0.0942</td>\n",
       "      <td>9</td>\n",
       "      <td>30.295514</td>\n",
       "      <td>1</td>\n",
       "    </tr>\n",
       "    <tr>\n",
       "      <th>MU</th>\n",
       "      <td>3.039100e+10</td>\n",
       "      <td>0.4955</td>\n",
       "      <td>1.250000e+10</td>\n",
       "      <td>1.789100e+10</td>\n",
       "      <td>2.141000e+09</td>\n",
       "      <td>8.130000e+08</td>\n",
       "      <td>2.897000e+09</td>\n",
       "      <td>1.499400e+10</td>\n",
       "      <td>3.420000e+08</td>\n",
       "      <td>1.430300e+10</td>\n",
       "      <td>...</td>\n",
       "      <td>0.4573</td>\n",
       "      <td>0.1511</td>\n",
       "      <td>0.2275</td>\n",
       "      <td>0.6395</td>\n",
       "      <td>-0.5841</td>\n",
       "      <td>0.1738</td>\n",
       "      <td>0.0942</td>\n",
       "      <td>9</td>\n",
       "      <td>64.213737</td>\n",
       "      <td>1</td>\n",
       "    </tr>\n",
       "    <tr>\n",
       "      <th>GE</th>\n",
       "      <td>1.216150e+11</td>\n",
       "      <td>0.0285</td>\n",
       "      <td>9.546100e+10</td>\n",
       "      <td>2.615400e+10</td>\n",
       "      <td>0.000000e+00</td>\n",
       "      <td>1.811100e+10</td>\n",
       "      <td>4.071100e+10</td>\n",
       "      <td>-1.455700e+10</td>\n",
       "      <td>5.059000e+09</td>\n",
       "      <td>-2.177200e+10</td>\n",
       "      <td>...</td>\n",
       "      <td>-0.2781</td>\n",
       "      <td>-0.2892</td>\n",
       "      <td>-0.1575</td>\n",
       "      <td>-0.4487</td>\n",
       "      <td>-0.2297</td>\n",
       "      <td>0.0000</td>\n",
       "      <td>0.0308</td>\n",
       "      <td>7</td>\n",
       "      <td>44.757840</td>\n",
       "      <td>1</td>\n",
       "    </tr>\n",
       "    <tr>\n",
       "      <th>...</th>\n",
       "      <td>...</td>\n",
       "      <td>...</td>\n",
       "      <td>...</td>\n",
       "      <td>...</td>\n",
       "      <td>...</td>\n",
       "      <td>...</td>\n",
       "      <td>...</td>\n",
       "      <td>...</td>\n",
       "      <td>...</td>\n",
       "      <td>...</td>\n",
       "      <td>...</td>\n",
       "      <td>...</td>\n",
       "      <td>...</td>\n",
       "      <td>...</td>\n",
       "      <td>...</td>\n",
       "      <td>...</td>\n",
       "      <td>...</td>\n",
       "      <td>...</td>\n",
       "      <td>...</td>\n",
       "      <td>...</td>\n",
       "      <td>...</td>\n",
       "    </tr>\n",
       "    <tr>\n",
       "      <th>YRIV</th>\n",
       "      <td>0.000000e+00</td>\n",
       "      <td>0.0000</td>\n",
       "      <td>0.000000e+00</td>\n",
       "      <td>0.000000e+00</td>\n",
       "      <td>0.000000e+00</td>\n",
       "      <td>3.755251e+06</td>\n",
       "      <td>3.755251e+06</td>\n",
       "      <td>-3.755251e+06</td>\n",
       "      <td>1.105849e+07</td>\n",
       "      <td>-1.482451e+07</td>\n",
       "      <td>...</td>\n",
       "      <td>0.0000</td>\n",
       "      <td>0.0000</td>\n",
       "      <td>-0.0508</td>\n",
       "      <td>-0.1409</td>\n",
       "      <td>-0.0152</td>\n",
       "      <td>0.0000</td>\n",
       "      <td>-0.2602</td>\n",
       "      <td>8</td>\n",
       "      <td>-90.962099</td>\n",
       "      <td>0</td>\n",
       "    </tr>\n",
       "    <tr>\n",
       "      <th>YTEN</th>\n",
       "      <td>5.560000e+05</td>\n",
       "      <td>-0.4110</td>\n",
       "      <td>0.000000e+00</td>\n",
       "      <td>5.560000e+05</td>\n",
       "      <td>4.759000e+06</td>\n",
       "      <td>5.071000e+06</td>\n",
       "      <td>9.830000e+06</td>\n",
       "      <td>-9.274000e+06</td>\n",
       "      <td>0.000000e+00</td>\n",
       "      <td>-9.170000e+06</td>\n",
       "      <td>...</td>\n",
       "      <td>0.3445</td>\n",
       "      <td>0.0000</td>\n",
       "      <td>-0.2323</td>\n",
       "      <td>-0.8602</td>\n",
       "      <td>0.0000</td>\n",
       "      <td>0.0352</td>\n",
       "      <td>-0.0993</td>\n",
       "      <td>0</td>\n",
       "      <td>-77.922077</td>\n",
       "      <td>0</td>\n",
       "    </tr>\n",
       "    <tr>\n",
       "      <th>ZKIN</th>\n",
       "      <td>5.488438e+07</td>\n",
       "      <td>0.2210</td>\n",
       "      <td>3.659379e+07</td>\n",
       "      <td>1.829059e+07</td>\n",
       "      <td>1.652633e+06</td>\n",
       "      <td>7.020320e+06</td>\n",
       "      <td>8.672953e+06</td>\n",
       "      <td>9.617636e+06</td>\n",
       "      <td>1.239170e+06</td>\n",
       "      <td>8.416324e+06</td>\n",
       "      <td>...</td>\n",
       "      <td>0.1605</td>\n",
       "      <td>0.7706</td>\n",
       "      <td>0.2489</td>\n",
       "      <td>0.4074</td>\n",
       "      <td>-0.0968</td>\n",
       "      <td>0.2415</td>\n",
       "      <td>0.8987</td>\n",
       "      <td>0</td>\n",
       "      <td>-17.834400</td>\n",
       "      <td>0</td>\n",
       "    </tr>\n",
       "    <tr>\n",
       "      <th>ZOM</th>\n",
       "      <td>0.000000e+00</td>\n",
       "      <td>0.0000</td>\n",
       "      <td>0.000000e+00</td>\n",
       "      <td>0.000000e+00</td>\n",
       "      <td>1.031715e+07</td>\n",
       "      <td>4.521349e+06</td>\n",
       "      <td>1.664863e+07</td>\n",
       "      <td>-1.664863e+07</td>\n",
       "      <td>0.000000e+00</td>\n",
       "      <td>-1.664769e+07</td>\n",
       "      <td>...</td>\n",
       "      <td>0.8980</td>\n",
       "      <td>0.0000</td>\n",
       "      <td>0.1568</td>\n",
       "      <td>-0.2200</td>\n",
       "      <td>0.0000</td>\n",
       "      <td>2.7499</td>\n",
       "      <td>0.1457</td>\n",
       "      <td>7</td>\n",
       "      <td>-73.520000</td>\n",
       "      <td>0</td>\n",
       "    </tr>\n",
       "    <tr>\n",
       "      <th>ZYME</th>\n",
       "      <td>5.301900e+07</td>\n",
       "      <td>0.0243</td>\n",
       "      <td>0.000000e+00</td>\n",
       "      <td>5.301900e+07</td>\n",
       "      <td>5.668400e+07</td>\n",
       "      <td>2.945700e+07</td>\n",
       "      <td>8.614600e+07</td>\n",
       "      <td>-3.312700e+07</td>\n",
       "      <td>1.660000e+05</td>\n",
       "      <td>-3.438500e+07</td>\n",
       "      <td>...</td>\n",
       "      <td>-0.4185</td>\n",
       "      <td>0.0000</td>\n",
       "      <td>0.8519</td>\n",
       "      <td>0.1325</td>\n",
       "      <td>0.0000</td>\n",
       "      <td>0.3577</td>\n",
       "      <td>0.5880</td>\n",
       "      <td>6</td>\n",
       "      <td>209.462222</td>\n",
       "      <td>1</td>\n",
       "    </tr>\n",
       "  </tbody>\n",
       "</table>\n",
       "<p>4392 rows × 224 columns</p>\n",
       "</div>"
      ],
      "text/plain": [
       "                 Revenue  Revenue Growth  Cost of Revenue  Gross Profit  \\\n",
       "Unnamed: 0                                                                \n",
       "CMCSA       9.450700e+10          0.1115     0.000000e+00  9.450700e+10   \n",
       "KMI         1.414400e+10          0.0320     7.288000e+09  6.856000e+09   \n",
       "INTC        7.084800e+10          0.1289     2.711100e+10  4.373700e+10   \n",
       "MU          3.039100e+10          0.4955     1.250000e+10  1.789100e+10   \n",
       "GE          1.216150e+11          0.0285     9.546100e+10  2.615400e+10   \n",
       "...                  ...             ...              ...           ...   \n",
       "YRIV        0.000000e+00          0.0000     0.000000e+00  0.000000e+00   \n",
       "YTEN        5.560000e+05         -0.4110     0.000000e+00  5.560000e+05   \n",
       "ZKIN        5.488438e+07          0.2210     3.659379e+07  1.829059e+07   \n",
       "ZOM         0.000000e+00          0.0000     0.000000e+00  0.000000e+00   \n",
       "ZYME        5.301900e+07          0.0243     0.000000e+00  5.301900e+07   \n",
       "\n",
       "            R&D Expenses  SG&A Expense  Operating Expenses  Operating Income  \\\n",
       "Unnamed: 0                                                                     \n",
       "CMCSA       0.000000e+00  6.482200e+10        7.549800e+10      1.900900e+10   \n",
       "KMI         0.000000e+00  6.010000e+08        3.062000e+09      3.794000e+09   \n",
       "INTC        1.354300e+10  6.750000e+09        2.042100e+10      2.331600e+10   \n",
       "MU          2.141000e+09  8.130000e+08        2.897000e+09      1.499400e+10   \n",
       "GE          0.000000e+00  1.811100e+10        4.071100e+10     -1.455700e+10   \n",
       "...                  ...           ...                 ...               ...   \n",
       "YRIV        0.000000e+00  3.755251e+06        3.755251e+06     -3.755251e+06   \n",
       "YTEN        4.759000e+06  5.071000e+06        9.830000e+06     -9.274000e+06   \n",
       "ZKIN        1.652633e+06  7.020320e+06        8.672953e+06      9.617636e+06   \n",
       "ZOM         1.031715e+07  4.521349e+06        1.664863e+07     -1.664863e+07   \n",
       "ZYME        5.668400e+07  2.945700e+07        8.614600e+07     -3.312700e+07   \n",
       "\n",
       "            Interest Expense  Earnings before Tax  ...  Receivables growth  \\\n",
       "Unnamed: 0                                         ...                       \n",
       "CMCSA           3.542000e+09         1.511100e+10  ...              0.2570   \n",
       "KMI             1.917000e+09         2.196000e+09  ...              0.0345   \n",
       "INTC           -1.260000e+08         2.331700e+10  ...              0.1989   \n",
       "MU              3.420000e+08         1.430300e+10  ...              0.4573   \n",
       "GE              5.059000e+09        -2.177200e+10  ...             -0.2781   \n",
       "...                      ...                  ...  ...                 ...   \n",
       "YRIV            1.105849e+07        -1.482451e+07  ...              0.0000   \n",
       "YTEN            0.000000e+00        -9.170000e+06  ...              0.3445   \n",
       "ZKIN            1.239170e+06         8.416324e+06  ...              0.1605   \n",
       "ZOM             0.000000e+00        -1.664769e+07  ...              0.8980   \n",
       "ZYME            1.660000e+05        -3.438500e+07  ...             -0.4185   \n",
       "\n",
       "            Inventory Growth  Asset Growth  Book Value per Share Growth  \\\n",
       "Unnamed: 0                                                                \n",
       "CMCSA                 0.0000        0.3426                       0.0722   \n",
       "KMI                  -0.0920       -0.0024                       0.0076   \n",
       "INTC                  0.0387        0.0382                       0.1014   \n",
       "MU                    0.1511        0.2275                       0.6395   \n",
       "GE                   -0.2892       -0.1575                      -0.4487   \n",
       "...                      ...           ...                          ...   \n",
       "YRIV                  0.0000       -0.0508                      -0.1409   \n",
       "YTEN                  0.0000       -0.2323                      -0.8602   \n",
       "ZKIN                  0.7706        0.2489                       0.4074   \n",
       "ZOM                   0.0000        0.1568                      -0.2200   \n",
       "ZYME                  0.0000        0.8519                       0.1325   \n",
       "\n",
       "            Debt Growth  R&D Expense Growth  SG&A Expenses Growth  Sector  \\\n",
       "Unnamed: 0                                                                  \n",
       "CMCSA            0.7309              0.0000                0.1308       2   \n",
       "KMI             -0.0137              0.0000               -0.1265       4   \n",
       "INTC            -0.0169              0.0390               -0.0942       9   \n",
       "MU              -0.5841              0.1738                0.0942       9   \n",
       "GE              -0.2297              0.0000                0.0308       7   \n",
       "...                 ...                 ...                   ...     ...   \n",
       "YRIV            -0.0152              0.0000               -0.2602       8   \n",
       "YTEN             0.0000              0.0352               -0.0993       0   \n",
       "ZKIN            -0.0968              0.2415                0.8987       0   \n",
       "ZOM              0.0000              2.7499                0.1457       7   \n",
       "ZYME             0.0000              0.3577                0.5880       6   \n",
       "\n",
       "            2019 PRICE VAR [%]  Class  \n",
       "Unnamed: 0                             \n",
       "CMCSA                32.794573      1  \n",
       "KMI                  40.588068      1  \n",
       "INTC                 30.295514      1  \n",
       "MU                   64.213737      1  \n",
       "GE                   44.757840      1  \n",
       "...                        ...    ...  \n",
       "YRIV                -90.962099      0  \n",
       "YTEN                -77.922077      0  \n",
       "ZKIN                -17.834400      0  \n",
       "ZOM                 -73.520000      0  \n",
       "ZYME                209.462222      1  \n",
       "\n",
       "[4392 rows x 224 columns]"
      ]
     },
     "execution_count": 40,
     "metadata": {},
     "output_type": "execute_result"
    }
   ],
   "source": [
    "# replace missing values with 0\n",
    "financial_data = financial_data.fillna(0)\n",
    "financial_data"
   ]
  },
  {
   "cell_type": "markdown",
   "metadata": {},
   "source": [
    "#### 1.3.2 C.ii):\n",
    "\n",
    "First, we have to read out `Y` (Dividend payments) and `X`."
   ]
  },
  {
   "cell_type": "code",
   "execution_count": 41,
   "metadata": {},
   "outputs": [],
   "source": [
    "Y = np.asarray(financial_data['Dividend payments'])\n",
    "X = np.asarray(financial_data.loc[:, financial_data.columns != 'Dividend payments'])"
   ]
  },
  {
   "cell_type": "code",
   "execution_count": 42,
   "metadata": {},
   "outputs": [],
   "source": [
    "from sklearn.linear_model import LassoCV\n",
    "from sklearn.preprocessing import StandardScaler"
   ]
  },
  {
   "cell_type": "markdown",
   "metadata": {},
   "source": [
    "Then, we have to standardize the data."
   ]
  },
  {
   "cell_type": "code",
   "execution_count": 43,
   "metadata": {},
   "outputs": [],
   "source": [
    "# use sklearn to standardize the data for the Lasso analysis\n",
    "Y_std = StandardScaler()\n",
    "Y_std.fit(Y[:,None])\n",
    "Y_std = Y_std.transform(Y[:,None])\n",
    "\n",
    "X_std = StandardScaler()\n",
    "X_std.fit(X)\n",
    "X_std = X_std.transform(X)"
   ]
  },
  {
   "cell_type": "markdown",
   "metadata": {},
   "source": [
    "We can now run the Lasso with 5-fold CV."
   ]
  },
  {
   "cell_type": "code",
   "execution_count": 44,
   "metadata": {},
   "outputs": [
    {
     "name": "stdout",
     "output_type": "stream",
     "text": [
      "The optimal alpha is: 0.019546258457516154\n"
     ]
    }
   ],
   "source": [
    "# define the LassoCV object\n",
    "Lasso = LassoCV(cv=5, fit_intercept=False, normalize=False, max_iter=10000).fit(X_std, Y_std.ravel())\n",
    "print('The optimal alpha is: '+ str(Lasso.alpha_))"
   ]
  },
  {
   "cell_type": "markdown",
   "metadata": {},
   "source": [
    "#### 1.3.3 C.iii):\n",
    "\n",
    "#### 1.3.3 C.iv):\n",
    "\n",
    "We can now read out $R^2$, as well as all the variables that are included. "
   ]
  },
  {
   "cell_type": "code",
   "execution_count": 45,
   "metadata": {},
   "outputs": [
    {
     "name": "stdout",
     "output_type": "stream",
     "text": [
      "The R^2 is:\n",
      "0.8149472235807809\n"
     ]
    }
   ],
   "source": [
    "print('The R^2 is:\\n' + str(Lasso.score(X_std, Y_std.ravel())))"
   ]
  },
  {
   "cell_type": "markdown",
   "metadata": {},
   "source": [
    "And create a table containing all variables and their corresponding coefficients."
   ]
  },
  {
   "cell_type": "code",
   "execution_count": 46,
   "metadata": {},
   "outputs": [
    {
     "data": {
      "text/html": [
       "<div>\n",
       "<style scoped>\n",
       "    .dataframe tbody tr th:only-of-type {\n",
       "        vertical-align: middle;\n",
       "    }\n",
       "\n",
       "    .dataframe tbody tr th {\n",
       "        vertical-align: top;\n",
       "    }\n",
       "\n",
       "    .dataframe thead th {\n",
       "        text-align: right;\n",
       "    }\n",
       "</style>\n",
       "<table border=\"1\" class=\"dataframe\">\n",
       "  <thead>\n",
       "    <tr style=\"text-align: right;\">\n",
       "      <th></th>\n",
       "      <th>coefficient</th>\n",
       "    </tr>\n",
       "  </thead>\n",
       "  <tbody>\n",
       "    <tr>\n",
       "      <th>Revenue</th>\n",
       "      <td>-0.000000</td>\n",
       "    </tr>\n",
       "    <tr>\n",
       "      <th>Revenue Growth</th>\n",
       "      <td>-0.000000</td>\n",
       "    </tr>\n",
       "    <tr>\n",
       "      <th>Cost of Revenue</th>\n",
       "      <td>0.000000</td>\n",
       "    </tr>\n",
       "    <tr>\n",
       "      <th>Gross Profit</th>\n",
       "      <td>-0.038286</td>\n",
       "    </tr>\n",
       "    <tr>\n",
       "      <th>R&amp;D Expenses</th>\n",
       "      <td>-0.042864</td>\n",
       "    </tr>\n",
       "    <tr>\n",
       "      <th>...</th>\n",
       "      <td>...</td>\n",
       "    </tr>\n",
       "    <tr>\n",
       "      <th>R&amp;D Expense Growth</th>\n",
       "      <td>-0.000000</td>\n",
       "    </tr>\n",
       "    <tr>\n",
       "      <th>SG&amp;A Expenses Growth</th>\n",
       "      <td>-0.000000</td>\n",
       "    </tr>\n",
       "    <tr>\n",
       "      <th>Sector</th>\n",
       "      <td>-0.000000</td>\n",
       "    </tr>\n",
       "    <tr>\n",
       "      <th>2019 PRICE VAR [%]</th>\n",
       "      <td>0.000000</td>\n",
       "    </tr>\n",
       "    <tr>\n",
       "      <th>Class</th>\n",
       "      <td>0.000000</td>\n",
       "    </tr>\n",
       "  </tbody>\n",
       "</table>\n",
       "<p>223 rows × 1 columns</p>\n",
       "</div>"
      ],
      "text/plain": [
       "                      coefficient\n",
       "Revenue                 -0.000000\n",
       "Revenue Growth          -0.000000\n",
       "Cost of Revenue          0.000000\n",
       "Gross Profit            -0.038286\n",
       "R&D Expenses            -0.042864\n",
       "...                           ...\n",
       "R&D Expense Growth      -0.000000\n",
       "SG&A Expenses Growth    -0.000000\n",
       "Sector                  -0.000000\n",
       "2019 PRICE VAR [%]       0.000000\n",
       "Class                    0.000000\n",
       "\n",
       "[223 rows x 1 columns]"
      ]
     },
     "execution_count": 46,
     "metadata": {},
     "output_type": "execute_result"
    }
   ],
   "source": [
    "# get the columns labels without 'Dividend payments'\n",
    "ccc = financial_data.loc[:, financial_data.columns != 'Dividend payments'].columns\n",
    "\n",
    "pd.DataFrame(Lasso.coef_, index=ccc, columns=['coefficient'])"
   ]
  },
  {
   "cell_type": "markdown",
   "metadata": {},
   "source": [
    "Since there are many variables in our data set, let us present only those that have a non-zero coefficient."
   ]
  },
  {
   "cell_type": "code",
   "execution_count": 47,
   "metadata": {},
   "outputs": [
    {
     "data": {
      "text/html": [
       "<div>\n",
       "<style scoped>\n",
       "    .dataframe tbody tr th:only-of-type {\n",
       "        vertical-align: middle;\n",
       "    }\n",
       "\n",
       "    .dataframe tbody tr th {\n",
       "        vertical-align: top;\n",
       "    }\n",
       "\n",
       "    .dataframe thead th {\n",
       "        text-align: right;\n",
       "    }\n",
       "</style>\n",
       "<table border=\"1\" class=\"dataframe\">\n",
       "  <thead>\n",
       "    <tr style=\"text-align: right;\">\n",
       "      <th></th>\n",
       "      <th>coefficient</th>\n",
       "    </tr>\n",
       "  </thead>\n",
       "  <tbody>\n",
       "    <tr>\n",
       "      <th>Gross Profit</th>\n",
       "      <td>-0.038286</td>\n",
       "    </tr>\n",
       "    <tr>\n",
       "      <th>R&amp;D Expenses</th>\n",
       "      <td>-0.042864</td>\n",
       "    </tr>\n",
       "    <tr>\n",
       "      <th>Earnings before Tax</th>\n",
       "      <td>-0.179280</td>\n",
       "    </tr>\n",
       "    <tr>\n",
       "      <th>Income Tax Expense</th>\n",
       "      <td>-0.097934</td>\n",
       "    </tr>\n",
       "    <tr>\n",
       "      <th>Net Income - Non-Controlling int</th>\n",
       "      <td>-0.030274</td>\n",
       "    </tr>\n",
       "    <tr>\n",
       "      <th>Net Income - Discontinued ops</th>\n",
       "      <td>-0.013497</td>\n",
       "    </tr>\n",
       "    <tr>\n",
       "      <th>Preferred Dividends</th>\n",
       "      <td>-0.026095</td>\n",
       "    </tr>\n",
       "    <tr>\n",
       "      <th>Weighted Average Shs Out (Dil)</th>\n",
       "      <td>-0.018125</td>\n",
       "    </tr>\n",
       "    <tr>\n",
       "      <th>Dividend per Share</th>\n",
       "      <td>-0.062493</td>\n",
       "    </tr>\n",
       "    <tr>\n",
       "      <th>EBIT</th>\n",
       "      <td>-0.134758</td>\n",
       "    </tr>\n",
       "    <tr>\n",
       "      <th>Goodwill and Intangible Assets</th>\n",
       "      <td>-0.132172</td>\n",
       "    </tr>\n",
       "    <tr>\n",
       "      <th>Tax assets</th>\n",
       "      <td>-0.109856</td>\n",
       "    </tr>\n",
       "    <tr>\n",
       "      <th>Short-term debt</th>\n",
       "      <td>-0.018592</td>\n",
       "    </tr>\n",
       "    <tr>\n",
       "      <th>Deferred revenue</th>\n",
       "      <td>-0.004637</td>\n",
       "    </tr>\n",
       "    <tr>\n",
       "      <th>Tax Liabilities</th>\n",
       "      <td>-0.074345</td>\n",
       "    </tr>\n",
       "    <tr>\n",
       "      <th>Other comprehensive income</th>\n",
       "      <td>-0.015643</td>\n",
       "    </tr>\n",
       "    <tr>\n",
       "      <th>Retained earnings (deficit)</th>\n",
       "      <td>-0.152365</td>\n",
       "    </tr>\n",
       "    <tr>\n",
       "      <th>Total shareholders equity</th>\n",
       "      <td>-0.035609</td>\n",
       "    </tr>\n",
       "    <tr>\n",
       "      <th>Stock-based compensation</th>\n",
       "      <td>0.265567</td>\n",
       "    </tr>\n",
       "    <tr>\n",
       "      <th>Acquisitions and disposals</th>\n",
       "      <td>-0.038642</td>\n",
       "    </tr>\n",
       "    <tr>\n",
       "      <th>Investing Cash flow</th>\n",
       "      <td>-0.052053</td>\n",
       "    </tr>\n",
       "    <tr>\n",
       "      <th>Issuance (repayment) of debt</th>\n",
       "      <td>-0.006539</td>\n",
       "    </tr>\n",
       "    <tr>\n",
       "      <th>Financing Cash Flow</th>\n",
       "      <td>0.002448</td>\n",
       "    </tr>\n",
       "    <tr>\n",
       "      <th>Free Cash Flow</th>\n",
       "      <td>-0.065518</td>\n",
       "    </tr>\n",
       "    <tr>\n",
       "      <th>payoutRatio</th>\n",
       "      <td>-0.001265</td>\n",
       "    </tr>\n",
       "    <tr>\n",
       "      <th>dividendPayoutRatio</th>\n",
       "      <td>-0.002121</td>\n",
       "    </tr>\n",
       "    <tr>\n",
       "      <th>Enterprise Value</th>\n",
       "      <td>-0.200288</td>\n",
       "    </tr>\n",
       "    <tr>\n",
       "      <th>Payout Ratio</th>\n",
       "      <td>-0.000094</td>\n",
       "    </tr>\n",
       "    <tr>\n",
       "      <th>Average Payables</th>\n",
       "      <td>-0.067833</td>\n",
       "    </tr>\n",
       "    <tr>\n",
       "      <th>10Y Operating CF Growth (per Share)</th>\n",
       "      <td>0.005549</td>\n",
       "    </tr>\n",
       "    <tr>\n",
       "      <th>5Y Operating CF Growth (per Share)</th>\n",
       "      <td>0.000829</td>\n",
       "    </tr>\n",
       "    <tr>\n",
       "      <th>5Y Shareholders Equity Growth (per Share)</th>\n",
       "      <td>0.010842</td>\n",
       "    </tr>\n",
       "  </tbody>\n",
       "</table>\n",
       "</div>"
      ],
      "text/plain": [
       "                                           coefficient\n",
       "Gross Profit                                 -0.038286\n",
       "R&D Expenses                                 -0.042864\n",
       "Earnings before Tax                          -0.179280\n",
       "Income Tax Expense                           -0.097934\n",
       "Net Income - Non-Controlling int             -0.030274\n",
       "Net Income - Discontinued ops                -0.013497\n",
       "Preferred Dividends                          -0.026095\n",
       "Weighted Average Shs Out (Dil)               -0.018125\n",
       "Dividend per Share                           -0.062493\n",
       "EBIT                                         -0.134758\n",
       "Goodwill and Intangible Assets               -0.132172\n",
       "Tax assets                                   -0.109856\n",
       "Short-term debt                              -0.018592\n",
       "Deferred revenue                             -0.004637\n",
       "Tax Liabilities                              -0.074345\n",
       "Other comprehensive income                   -0.015643\n",
       "Retained earnings (deficit)                  -0.152365\n",
       "Total shareholders equity                    -0.035609\n",
       "Stock-based compensation                      0.265567\n",
       "Acquisitions and disposals                   -0.038642\n",
       "Investing Cash flow                          -0.052053\n",
       "Issuance (repayment) of debt                 -0.006539\n",
       "Financing Cash Flow                           0.002448\n",
       "Free Cash Flow                               -0.065518\n",
       "payoutRatio                                  -0.001265\n",
       "dividendPayoutRatio                          -0.002121\n",
       "Enterprise Value                             -0.200288\n",
       "Payout Ratio                                 -0.000094\n",
       "Average Payables                             -0.067833\n",
       "10Y Operating CF Growth (per Share)           0.005549\n",
       "5Y Operating CF Growth (per Share)            0.000829\n",
       "5Y Shareholders Equity Growth (per Share)     0.010842"
      ]
     },
     "execution_count": 47,
     "metadata": {},
     "output_type": "execute_result"
    }
   ],
   "source": [
    "# get a list of all variables that are included in the active set\n",
    "pd.DataFrame(Lasso.coef_[Lasso.coef_ != 0], index=ccc[Lasso.coef_ != 0], columns=['coefficient'])"
   ]
  },
  {
   "cell_type": "markdown",
   "metadata": {},
   "source": [
    "#### 1.3.4 C.v) and C.vi):\n",
    "\n",
    "For this exercise we can again use one of the classes provided as a solution to a tutorial or a Python toolbox.\n",
    "\n",
    "#### Implementation with `class PCA`: "
   ]
  },
  {
   "cell_type": "code",
   "execution_count": 48,
   "metadata": {},
   "outputs": [],
   "source": [
    "class PCA:\n",
    "    \n",
    "    def __init__(self, X):\n",
    "        self.X = X\n",
    "\n",
    "    def get_components(self, X = None, kk = 1, λ = None):\n",
    "        \n",
    "        # build the function such that it can also back out the factors given the loadings for arbitrary samples\n",
    "        if X is None:\n",
    "            X = self.X\n",
    "            \n",
    "        if λ is not None:\n",
    "            # back out the size of the data\n",
    "            [t,n] = X.shape\n",
    "            \n",
    "            self.λ = λ\n",
    "            self.f = X @ self.λ /n\n",
    "        else:\n",
    "            #X = self.X\n",
    "            \n",
    "            # back out the size of the data\n",
    "            [t,n] = X.shape\n",
    "\n",
    "            # since the data is standardized, we can compute the variance-covariance matrix like so\n",
    "            covm = X.T @ X\n",
    "\n",
    "            # now we extract the eigenvectors and eigenvalues\n",
    "            w,v = np.linalg.eig(covm)\n",
    "\n",
    "            # sort in descending order\n",
    "            sort_id = np.flipud(np.argsort(w))\n",
    "            v = v[:,sort_id]\n",
    "            # diagonalize eigenvalues\n",
    "            w = np.diag(w[sort_id])\n",
    "    \n",
    "            # compute the factor loadings\n",
    "            self.λ = np.sqrt(n)*v[:,0:kk]\n",
    "\n",
    "            # compute the principal components\n",
    "            self.f = X @ self.λ /n\n",
    "            \n",
    "        self.λ = self.λ.real\n",
    "        self.f = self.f.real\n",
    "        "
   ]
  },
  {
   "cell_type": "markdown",
   "metadata": {},
   "source": [
    "With the class set up, we can now generate the principal component. "
   ]
  },
  {
   "cell_type": "code",
   "execution_count": 49,
   "metadata": {},
   "outputs": [],
   "source": [
    "k = 1 \n",
    "\n",
    "PCA_ = PCA(X_std)\n",
    "PCA_.get_components(X_std,k)"
   ]
  },
  {
   "cell_type": "markdown",
   "metadata": {},
   "source": [
    "Plot the principal component."
   ]
  },
  {
   "cell_type": "code",
   "execution_count": 50,
   "metadata": {},
   "outputs": [
    {
     "data": {
      "image/png": "[encoded data removed]",
      "text/plain": [
       "<Figure size 540x432 with 1 Axes>"
      ]
     },
     "metadata": {
      "needs_background": "light"
     },
     "output_type": "display_data"
    }
   ],
   "source": [
    "fig, axes = plt.subplots(figsize=(7.5, 6))\n",
    "\n",
    "# plot the data\n",
    "axes.plot(PCA_.f, label='d12y')\n",
    "axes.set(title='1st Principal Component')\n",
    "axes.legend()\n",
    "plt.show()"
   ]
  },
  {
   "cell_type": "markdown",
   "metadata": {},
   "source": [
    "We can now regress `Y` onto the principal component. Since we work with standardized data, we do not have to include a constant."
   ]
  },
  {
   "cell_type": "code",
   "execution_count": 51,
   "metadata": {},
   "outputs": [
    {
     "data": {
      "text/html": [
       "<div>\n",
       "<style scoped>\n",
       "    .dataframe tbody tr th:only-of-type {\n",
       "        vertical-align: middle;\n",
       "    }\n",
       "\n",
       "    .dataframe tbody tr th {\n",
       "        vertical-align: top;\n",
       "    }\n",
       "\n",
       "    .dataframe thead th {\n",
       "        text-align: right;\n",
       "    }\n",
       "</style>\n",
       "<table border=\"1\" class=\"dataframe\">\n",
       "  <thead>\n",
       "    <tr style=\"text-align: right;\">\n",
       "      <th></th>\n",
       "      <th>beta</th>\n",
       "      <th>se</th>\n",
       "      <th>t-statistic</th>\n",
       "      <th>p-value</th>\n",
       "      <th>CI - lower</th>\n",
       "      <th>CI - upper</th>\n",
       "    </tr>\n",
       "  </thead>\n",
       "  <tbody>\n",
       "    <tr>\n",
       "      <th>0</th>\n",
       "      <td>-2.37512</td>\n",
       "      <td>0.028945</td>\n",
       "      <td>82.056133</td>\n",
       "      <td>0.0</td>\n",
       "      <td>-2.431852</td>\n",
       "      <td>-2.318389</td>\n",
       "    </tr>\n",
       "  </tbody>\n",
       "</table>\n",
       "</div>"
      ],
      "text/plain": [
       "      beta        se  t-statistic  p-value  CI - lower  CI - upper\n",
       "0 -2.37512  0.028945    82.056133      0.0   -2.431852   -2.318389"
      ]
     },
     "execution_count": 51,
     "metadata": {},
     "output_type": "execute_result"
    }
   ],
   "source": [
    "X = np.hstack((np.ones([Y_std.shape[0],1]), PCA_.f))\n",
    "\n",
    "# run the regression\n",
    "beta = OLS(Y_std,PCA_.f)\n",
    "beta.estimate()"
   ]
  },
  {
   "cell_type": "code",
   "execution_count": 52,
   "metadata": {},
   "outputs": [
    {
     "name": "stdout",
     "output_type": "stream",
     "text": [
      "The R^2 is:\n",
      "0.6052753035889729\n"
     ]
    }
   ],
   "source": [
    "print('The R^2 is:\\n' + str(beta.R2.item()))"
   ]
  },
  {
   "cell_type": "markdown",
   "metadata": {},
   "source": [
    "#### Implementation with `scikit learn`:\n",
    "\n",
    "Obtain the principal component."
   ]
  },
  {
   "cell_type": "code",
   "execution_count": 53,
   "metadata": {},
   "outputs": [],
   "source": [
    "from sklearn.decomposition import PCA\n",
    "\n",
    "pca = PCA(n_components=1)\n",
    "pca.fit(X_std)\n",
    "\n",
    "FF = pca.fit_transform(X_std)"
   ]
  },
  {
   "cell_type": "markdown",
   "metadata": {},
   "source": [
    "Plot the principal component."
   ]
  },
  {
   "cell_type": "code",
   "execution_count": 54,
   "metadata": {},
   "outputs": [
    {
     "data": {
      "image/png": "[encoded data removed]",
      "text/plain": [
       "<Figure size 540x432 with 1 Axes>"
      ]
     },
     "metadata": {
      "needs_background": "light"
     },
     "output_type": "display_data"
    }
   ],
   "source": [
    "fig, axes = plt.subplots(figsize=(7.5, 6))\n",
    "\n",
    "# plot the data\n",
    "axes.plot(FF, label='d12y')\n",
    "axes.set(title='1st Principal Component')\n",
    "axes.legend()\n",
    "plt.show()"
   ]
  },
  {
   "cell_type": "markdown",
   "metadata": {},
   "source": [
    "We can now regress Y onto the principal component. Since we work with standardized data, we do not have to include a constant."
   ]
  },
  {
   "cell_type": "code",
   "execution_count": 55,
   "metadata": {},
   "outputs": [
    {
     "name": "stdout",
     "output_type": "stream",
     "text": [
      "                                 OLS Regression Results                                \n",
      "=======================================================================================\n",
      "Dep. Variable:                      y   R-squared (uncentered):                   0.605\n",
      "Model:                            OLS   Adj. R-squared (uncentered):              0.605\n",
      "Method:                 Least Squares   F-statistic:                              6733.\n",
      "Date:                Wed, 24 Mar 2021   Prob (F-statistic):                        0.00\n",
      "Time:                        13:37:59   Log-Likelihood:                         -4190.6\n",
      "No. Observations:                4392   AIC:                                      8383.\n",
      "Df Residuals:                    4391   BIC:                                      8390.\n",
      "Df Model:                           1                                                  \n",
      "Covariance Type:            nonrobust                                                  \n",
      "==============================================================================\n",
      "                 coef    std err          t      P>|t|      [0.025      0.975]\n",
      "------------------------------------------------------------------------------\n",
      "x1            -0.1590      0.002    -82.056      0.000      -0.163      -0.155\n",
      "==============================================================================\n",
      "Omnibus:                     4061.186   Durbin-Watson:                   2.060\n",
      "Prob(Omnibus):                  0.000   Jarque-Bera (JB):          1155567.601\n",
      "Skew:                          -3.692   Prob(JB):                         0.00\n",
      "Kurtosis:                      82.120   Cond. No.                         1.00\n",
      "==============================================================================\n",
      "\n",
      "Notes:\n",
      "[1] R² is computed without centering (uncentered) since the model does not contain a constant.\n",
      "[2] Standard Errors assume that the covariance matrix of the errors is correctly specified.\n"
     ]
    }
   ],
   "source": [
    "# run the regression\n",
    "model = sm.OLS(Y_std, FF)\n",
    "results = model.fit()\n",
    "print(results.summary())"
   ]
  },
  {
   "cell_type": "markdown",
   "metadata": {},
   "source": [
    "#### 1.3.5 C.vii):"
   ]
  },
  {
   "cell_type": "code",
   "execution_count": null,
   "metadata": {},
   "outputs": [],
   "source": []
  }
 ],
 "metadata": {
  "@webio": {
   "lastCommId": null,
   "lastKernelId": null
  },
  "kernelspec": {
   "display_name": "Python 3",
   "language": "python",
   "name": "python3"
  },
  "language_info": {
   "codemirror_mode": {
    "name": "ipython",
    "version": 3
   },
   "file_extension": ".py",
   "mimetype": "text/x-python",
   "name": "python",
   "nbconvert_exporter": "python",
   "pygments_lexer": "ipython3",
   "version": "3.8.5"
  }
 },
 "nbformat": 4,
 "nbformat_minor": 4
}
